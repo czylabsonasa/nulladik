{
 "cells": [
  {
   "cell_type": "markdown",
   "metadata": {},
   "source": [
    "### Feladat:\n",
    "https://projecteuler.net/problem=7 <br>\n",
    "\n",
    "Lehetne szitálgatni is, de ez így tisztább..."
   ]
  },
  {
   "cell_type": "code",
   "execution_count": 15,
   "metadata": {},
   "outputs": [
    {
     "data": {
      "text/plain": [
       "10000-element Array{Int64,1}:\n",
       "      3\n",
       "      5\n",
       "      7\n",
       "     11\n",
       "     13\n",
       "     17\n",
       "     19\n",
       "     23\n",
       "     29\n",
       "     31\n",
       "     37\n",
       "     41\n",
       "     43\n",
       "      ⋮\n",
       " 104659\n",
       " 104677\n",
       " 104681\n",
       " 104683\n",
       " 104693\n",
       " 104701\n",
       " 104707\n",
       " 104711\n",
       " 104717\n",
       " 104723\n",
       " 104729\n",
       " 104743"
      ]
     },
     "execution_count": 15,
     "metadata": {},
     "output_type": "execute_result"
    }
   ],
   "source": [
    "pr = [ 3,5,7,11 ]\n",
    "lim = 10001\n",
    "npr = 5\n",
    "n = 13\n",
    "while npr < lim\n",
    "  i, ip = 1, true\n",
    "  while pr[i]^2 <= n\n",
    "    if 0 == n%pr[i] \n",
    "      ip = false; break \n",
    "    end\n",
    "    i += 1\n",
    "  end\n",
    "  if true == ip \n",
    "    npr += 1\n",
    "    push!( pr, n ) \n",
    "  end\n",
    "  n += 2\n",
    "end\n",
    "pr[ npr-1 ]"
   ]
  },
  {
   "cell_type": "code",
   "execution_count": null,
   "metadata": {},
   "outputs": [],
   "source": []
  }
 ],
 "metadata": {
  "@webio": {
   "lastCommId": "6875c7ecfd32428cb793f1dc007e663b",
   "lastKernelId": "9ad1ce3b-1295-439c-9029-7cd695e905ba"
  },
  "kernelspec": {
   "display_name": "Julia 1.0.2",
   "language": "julia",
   "name": "julia-1.0"
  },
  "language_info": {
   "file_extension": ".jl",
   "mimetype": "application/julia",
   "name": "julia",
   "version": "1.0.2"
  }
 },
 "nbformat": 4,
 "nbformat_minor": 2
}
