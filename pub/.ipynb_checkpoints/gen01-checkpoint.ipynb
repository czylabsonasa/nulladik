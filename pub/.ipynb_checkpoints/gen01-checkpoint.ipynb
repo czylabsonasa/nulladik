{
 "cells": [
  {
   "cell_type": "markdown",
   "metadata": {},
   "source": [
    "### Teljes bináris fa bejárása\n",
    "\n",
    " **Feladat**: Generáljuk le (írjuk ki az ```stdout```-ra) az összes adott $n$ hosszúságú $0-1$ sorozatot!<br>\n",
    " \n",
    " **Megoldás**: $n$ szint van, minden szinten mindent ($0,1$) végigpróbálunk.<br>\n",
    " \n",
    " **Implementáció**:"
   ]
  },
  {
   "cell_type": "code",
   "execution_count": 13,
   "metadata": {},
   "outputs": [
    {
     "name": "stdout",
     "output_type": "stream",
     "text": [
      "  0.034037 seconds (57.80 k allocations: 2.922 MiB)\n"
     ]
    }
   ],
   "source": [
    "function gen01( hossz; ír=true )\n",
    "  akt = fill( '_',hossz ) # -> fill\n",
    "  function bejár( szint )\n",
    "    if szint > hossz\n",
    "      ( true == ír ) ? println( join(akt) ) : nothing\n",
    "      a=szint^2\n",
    "      return\n",
    "    end\n",
    "    akt[ szint ] = '0'\n",
    "    bejár( 1+szint )\n",
    "    akt[ szint ] = '1'\n",
    "    bejár( 1+szint )\n",
    "  end\n",
    "end\n",
    "\n",
    "@time gen01(3,ír=false)(1)\n"
   ]
  },
  {
   "cell_type": "markdown",
   "metadata": {},
   "source": [
    "A levelekkel együtt $2\\cdot(2^{n}-1)$ csúcsot járunk be. <br>\n",
    "\n",
    "Mérjük meg különböző $n$-ekre a futási időt! Mivel tudjuk, hogy exponenciális \n",
    "a futási idő, ezért a mérések logaritmusát ábrázoljuk.\n",
    "\n",
    "Ha egy k szintes fa egy csúcsát 1sec alatt alatt járná be \n",
    "a program, akkor kb. $2^k$sec alatt végezne, ezt az"
   ]
  },
  {
   "cell_type": "code",
   "execution_count": 15,
   "metadata": {},
   "outputs": [
    {
     "name": "stdout",
     "output_type": "stream",
     "text": [
      "31553163 csúcsot vizsgál másodpercenként. A használt cpu:\n",
      "cpu MHz\t\t: 3521.144\n"
     ]
    },
    {
     "data": {
      "image/svg+xml": [
       "<?xml version=\"1.0\" encoding=\"utf-8\"?>\n",
       "<svg xmlns=\"http://www.w3.org/2000/svg\" xmlns:xlink=\"http://www.w3.org/1999/xlink\" width=\"600\" height=\"400\" viewBox=\"0 0 2400 1600\">\n",
       "<defs>\n",
       "  <clipPath id=\"clip2500\">\n",
       "    <rect x=\"0\" y=\"0\" width=\"2000\" height=\"2000\"/>\n",
       "  </clipPath>\n",
       "</defs>\n",
       "<defs>\n",
       "  <clipPath id=\"clip2501\">\n",
       "    <rect x=\"0\" y=\"0\" width=\"2400\" height=\"1600\"/>\n",
       "  </clipPath>\n",
       "</defs>\n",
       "<polygon clip-path=\"url(#clip2501)\" points=\"\n",
       "0,1600 2400,1600 2400,0 0,0 \n",
       "  \" fill=\"#ffffff\" fill-rule=\"evenodd\" fill-opacity=\"1\"/>\n",
       "<defs>\n",
       "  <clipPath id=\"clip2502\">\n",
       "    <rect x=\"480\" y=\"0\" width=\"1681\" height=\"1600\"/>\n",
       "  </clipPath>\n",
       "</defs>\n",
       "<polygon clip-path=\"url(#clip2501)\" points=\"\n",
       "239.115,1440.48 2321.26,1440.48 2321.26,47.2441 239.115,47.2441 \n",
       "  \" fill=\"#ffffff\" fill-rule=\"evenodd\" fill-opacity=\"1\"/>\n",
       "<defs>\n",
       "  <clipPath id=\"clip2503\">\n",
       "    <rect x=\"239\" y=\"47\" width=\"2083\" height=\"1394\"/>\n",
       "  </clipPath>\n",
       "</defs>\n",
       "<polyline clip-path=\"url(#clip2503)\" style=\"stroke:#000000; stroke-width:2; stroke-opacity:0.1; fill:none\" points=\"\n",
       "  711.578,1440.48 711.578,47.2441 \n",
       "  \"/>\n",
       "<polyline clip-path=\"url(#clip2503)\" style=\"stroke:#000000; stroke-width:2; stroke-opacity:0.1; fill:none\" points=\"\n",
       "  1228.5,1440.48 1228.5,47.2441 \n",
       "  \"/>\n",
       "<polyline clip-path=\"url(#clip2503)\" style=\"stroke:#000000; stroke-width:2; stroke-opacity:0.1; fill:none\" points=\"\n",
       "  1745.41,1440.48 1745.41,47.2441 \n",
       "  \"/>\n",
       "<polyline clip-path=\"url(#clip2503)\" style=\"stroke:#000000; stroke-width:2; stroke-opacity:0.1; fill:none\" points=\"\n",
       "  2262.33,1440.48 2262.33,47.2441 \n",
       "  \"/>\n",
       "<polyline clip-path=\"url(#clip2503)\" style=\"stroke:#000000; stroke-width:2; stroke-opacity:0.1; fill:none\" points=\"\n",
       "  239.115,1407.27 2321.26,1407.27 \n",
       "  \"/>\n",
       "<polyline clip-path=\"url(#clip2503)\" style=\"stroke:#000000; stroke-width:2; stroke-opacity:0.1; fill:none\" points=\"\n",
       "  239.115,1178.5 2321.26,1178.5 \n",
       "  \"/>\n",
       "<polyline clip-path=\"url(#clip2503)\" style=\"stroke:#000000; stroke-width:2; stroke-opacity:0.1; fill:none\" points=\"\n",
       "  239.115,949.727 2321.26,949.727 \n",
       "  \"/>\n",
       "<polyline clip-path=\"url(#clip2503)\" style=\"stroke:#000000; stroke-width:2; stroke-opacity:0.1; fill:none\" points=\"\n",
       "  239.115,720.958 2321.26,720.958 \n",
       "  \"/>\n",
       "<polyline clip-path=\"url(#clip2503)\" style=\"stroke:#000000; stroke-width:2; stroke-opacity:0.1; fill:none\" points=\"\n",
       "  239.115,492.189 2321.26,492.189 \n",
       "  \"/>\n",
       "<polyline clip-path=\"url(#clip2503)\" style=\"stroke:#000000; stroke-width:2; stroke-opacity:0.1; fill:none\" points=\"\n",
       "  239.115,263.42 2321.26,263.42 \n",
       "  \"/>\n",
       "<polyline clip-path=\"url(#clip2501)\" style=\"stroke:#000000; stroke-width:4; stroke-opacity:1; fill:none\" points=\"\n",
       "  239.115,1440.48 2321.26,1440.48 \n",
       "  \"/>\n",
       "<polyline clip-path=\"url(#clip2501)\" style=\"stroke:#000000; stroke-width:4; stroke-opacity:1; fill:none\" points=\"\n",
       "  239.115,1440.48 239.115,47.2441 \n",
       "  \"/>\n",
       "<polyline clip-path=\"url(#clip2501)\" style=\"stroke:#000000; stroke-width:4; stroke-opacity:1; fill:none\" points=\"\n",
       "  711.578,1440.48 711.578,1419.58 \n",
       "  \"/>\n",
       "<polyline clip-path=\"url(#clip2501)\" style=\"stroke:#000000; stroke-width:4; stroke-opacity:1; fill:none\" points=\"\n",
       "  1228.5,1440.48 1228.5,1419.58 \n",
       "  \"/>\n",
       "<polyline clip-path=\"url(#clip2501)\" style=\"stroke:#000000; stroke-width:4; stroke-opacity:1; fill:none\" points=\"\n",
       "  1745.41,1440.48 1745.41,1419.58 \n",
       "  \"/>\n",
       "<polyline clip-path=\"url(#clip2501)\" style=\"stroke:#000000; stroke-width:4; stroke-opacity:1; fill:none\" points=\"\n",
       "  2262.33,1440.48 2262.33,1419.58 \n",
       "  \"/>\n",
       "<polyline clip-path=\"url(#clip2501)\" style=\"stroke:#000000; stroke-width:4; stroke-opacity:1; fill:none\" points=\"\n",
       "  239.115,1407.27 270.347,1407.27 \n",
       "  \"/>\n",
       "<polyline clip-path=\"url(#clip2501)\" style=\"stroke:#000000; stroke-width:4; stroke-opacity:1; fill:none\" points=\"\n",
       "  239.115,1178.5 270.347,1178.5 \n",
       "  \"/>\n",
       "<polyline clip-path=\"url(#clip2501)\" style=\"stroke:#000000; stroke-width:4; stroke-opacity:1; fill:none\" points=\"\n",
       "  239.115,949.727 270.347,949.727 \n",
       "  \"/>\n",
       "<polyline clip-path=\"url(#clip2501)\" style=\"stroke:#000000; stroke-width:4; stroke-opacity:1; fill:none\" points=\"\n",
       "  239.115,720.958 270.347,720.958 \n",
       "  \"/>\n",
       "<polyline clip-path=\"url(#clip2501)\" style=\"stroke:#000000; stroke-width:4; stroke-opacity:1; fill:none\" points=\"\n",
       "  239.115,492.189 270.347,492.189 \n",
       "  \"/>\n",
       "<polyline clip-path=\"url(#clip2501)\" style=\"stroke:#000000; stroke-width:4; stroke-opacity:1; fill:none\" points=\"\n",
       "  239.115,263.42 270.347,263.42 \n",
       "  \"/>\n",
       "<g clip-path=\"url(#clip2501)\">\n",
       "<text style=\"fill:#000000; fill-opacity:1; font-family:Arial,Helvetica Neue,Helvetica,sans-serif; font-size:48px; text-anchor:middle;\" transform=\"rotate(0, 711.578, 1494.48)\" x=\"711.578\" y=\"1494.48\">5</text>\n",
       "</g>\n",
       "<g clip-path=\"url(#clip2501)\">\n",
       "<text style=\"fill:#000000; fill-opacity:1; font-family:Arial,Helvetica Neue,Helvetica,sans-serif; font-size:48px; text-anchor:middle;\" transform=\"rotate(0, 1228.5, 1494.48)\" x=\"1228.5\" y=\"1494.48\">10</text>\n",
       "</g>\n",
       "<g clip-path=\"url(#clip2501)\">\n",
       "<text style=\"fill:#000000; fill-opacity:1; font-family:Arial,Helvetica Neue,Helvetica,sans-serif; font-size:48px; text-anchor:middle;\" transform=\"rotate(0, 1745.41, 1494.48)\" x=\"1745.41\" y=\"1494.48\">15</text>\n",
       "</g>\n",
       "<g clip-path=\"url(#clip2501)\">\n",
       "<text style=\"fill:#000000; fill-opacity:1; font-family:Arial,Helvetica Neue,Helvetica,sans-serif; font-size:48px; text-anchor:middle;\" transform=\"rotate(0, 2262.33, 1494.48)\" x=\"2262.33\" y=\"1494.48\">20</text>\n",
       "</g>\n",
       "<g clip-path=\"url(#clip2501)\">\n",
       "<text style=\"fill:#000000; fill-opacity:1; font-family:Arial,Helvetica Neue,Helvetica,sans-serif; font-size:48px; text-anchor:end;\" transform=\"rotate(0, 215.115, 1424.77)\" x=\"215.115\" y=\"1424.77\">-15</text>\n",
       "</g>\n",
       "<g clip-path=\"url(#clip2501)\">\n",
       "<text style=\"fill:#000000; fill-opacity:1; font-family:Arial,Helvetica Neue,Helvetica,sans-serif; font-size:48px; text-anchor:end;\" transform=\"rotate(0, 215.115, 1196)\" x=\"215.115\" y=\"1196\">-10</text>\n",
       "</g>\n",
       "<g clip-path=\"url(#clip2501)\">\n",
       "<text style=\"fill:#000000; fill-opacity:1; font-family:Arial,Helvetica Neue,Helvetica,sans-serif; font-size:48px; text-anchor:end;\" transform=\"rotate(0, 215.115, 967.227)\" x=\"215.115\" y=\"967.227\">-5</text>\n",
       "</g>\n",
       "<g clip-path=\"url(#clip2501)\">\n",
       "<text style=\"fill:#000000; fill-opacity:1; font-family:Arial,Helvetica Neue,Helvetica,sans-serif; font-size:48px; text-anchor:end;\" transform=\"rotate(0, 215.115, 738.458)\" x=\"215.115\" y=\"738.458\">0</text>\n",
       "</g>\n",
       "<g clip-path=\"url(#clip2501)\">\n",
       "<text style=\"fill:#000000; fill-opacity:1; font-family:Arial,Helvetica Neue,Helvetica,sans-serif; font-size:48px; text-anchor:end;\" transform=\"rotate(0, 215.115, 509.689)\" x=\"215.115\" y=\"509.689\">5</text>\n",
       "</g>\n",
       "<g clip-path=\"url(#clip2501)\">\n",
       "<text style=\"fill:#000000; fill-opacity:1; font-family:Arial,Helvetica Neue,Helvetica,sans-serif; font-size:48px; text-anchor:end;\" transform=\"rotate(0, 215.115, 280.92)\" x=\"215.115\" y=\"280.92\">10</text>\n",
       "</g>\n",
       "<g clip-path=\"url(#clip2501)\">\n",
       "<text style=\"fill:#000000; fill-opacity:1; font-family:Arial,Helvetica Neue,Helvetica,sans-serif; font-size:66px; text-anchor:middle;\" transform=\"rotate(0, 1280.19, 1590.4)\" x=\"1280.19\" y=\"1590.4\">problem size</text>\n",
       "</g>\n",
       "<g clip-path=\"url(#clip2501)\">\n",
       "<text style=\"fill:#000000; fill-opacity:1; font-family:Arial,Helvetica Neue,Helvetica,sans-serif; font-size:66px; text-anchor:middle;\" transform=\"rotate(-90, 57.6, 743.863)\" x=\"57.6\" y=\"743.863\">sec</text>\n",
       "</g>\n",
       "<polyline clip-path=\"url(#clip2503)\" style=\"stroke:#009af9; stroke-width:4; stroke-opacity:1; fill:none\" points=\"\n",
       "  298.044,1034.02 401.427,1401.05 504.811,1400.51 608.194,1377.65 711.578,1351.41 814.961,1321.54 918.345,1289.68 1021.73,1259.05 1125.11,1226.3 1228.5,1195.27 \n",
       "  1331.88,1159.75 1435.26,1129.1 1538.65,1100.86 1642.03,1067.04 1745.41,1034.92 1848.8,1003.97 1952.18,971.858 2055.56,940.377 2158.95,909.132 2262.33,876.715 \n",
       "  \n",
       "  \"/>\n",
       "<polyline clip-path=\"url(#clip2503)\" style=\"stroke:#e26f46; stroke-width:4; stroke-opacity:1; fill:none\" points=\"\n",
       "  298.044,689.244 401.427,657.53 504.811,625.816 608.194,594.101 711.578,562.387 814.961,530.673 918.345,498.959 1021.73,467.245 1125.11,435.531 1228.5,403.817 \n",
       "  1331.88,372.103 1435.26,340.388 1538.65,308.674 1642.03,276.96 1745.41,245.246 1848.8,213.532 1952.18,181.818 2055.56,150.104 2158.95,118.39 2262.33,86.6754 \n",
       "  \n",
       "  \"/>\n",
       "<polygon clip-path=\"url(#clip2501)\" points=\"\n",
       "1602.63,312.204 2249.26,312.204 2249.26,130.764 1602.63,130.764 \n",
       "  \" fill=\"#ffffff\" fill-rule=\"evenodd\" fill-opacity=\"1\"/>\n",
       "<polyline clip-path=\"url(#clip2501)\" style=\"stroke:#000000; stroke-width:4; stroke-opacity:1; fill:none\" points=\"\n",
       "  1602.63,312.204 2249.26,312.204 2249.26,130.764 1602.63,130.764 1602.63,312.204 \n",
       "  \"/>\n",
       "<polyline clip-path=\"url(#clip2501)\" style=\"stroke:#009af9; stroke-width:4; stroke-opacity:1; fill:none\" points=\"\n",
       "  1626.63,191.244 1770.63,191.244 \n",
       "  \"/>\n",
       "<g clip-path=\"url(#clip2501)\">\n",
       "<text style=\"fill:#000000; fill-opacity:1; font-family:Arial,Helvetica Neue,Helvetica,sans-serif; font-size:48px; text-anchor:start;\" transform=\"rotate(0, 1794.63, 208.744)\" x=\"1794.63\" y=\"208.744\">actual running time</text>\n",
       "</g>\n",
       "<polyline clip-path=\"url(#clip2501)\" style=\"stroke:#e26f46; stroke-width:4; stroke-opacity:1; fill:none\" points=\"\n",
       "  1626.63,251.724 1770.63,251.724 \n",
       "  \"/>\n",
       "<g clip-path=\"url(#clip2501)\">\n",
       "<image width=\"44\" height=\"35\" xlink:href=\"data:image/png;base64,\n",
       "iVBORw0KGgoAAAANSUhEUgAAACwAAAAjCAYAAADv0ujUAAACw0lEQVRYhcWX7Y3jIBCG31tdAaQF\n",
       "SkApwemAbYESnJTgEqyUgFKBlRJQKmC3BDYdzP6IhsPEH3hvYyONFCWD8xgejwcQEV4dzjmSUhIA\n",
       "UkpR13WU/661jjlCCDLGUAiB8mu9HDaEQEII6rqO+DOACG2MISklWWsjYNu2BICklE/QLwc2xlBd\n",
       "1/FPq6oiAFRVFWmtSWv9tIpEBL6xtm2XAw9tTWkAIOdcnM/bztBj8zjPGDMPbK0lXok0pJRkjHly\n",
       "cCy6riMpZf8Pk+tNLQTnTAJ770kpFe++aRqy1lLbtqS17sErpch7Pwnuve/dnHMuzm+aZnSu9z7m\n",
       "jSrhnCMhxCRIekMc1tpiXZqmifOmbpYfuqG83pM85VTqc+ph+sTPBWuWazKWJ4R4ygMRQWtNQohJ\n",
       "p3LHc7dL5o15mS8I56XVJV6DE6acGop8lXPX8kj9ndIo1SGtLvw89BK4gJcA13XdA57TKfV3aif5\n",
       "Gcl3TWtNTdM8CntevkrUyLUAUOTlnD5DVYQtCCHQGwbG5+fn0Ne9IaV8+u7r64vG8q/XKwCgqqrR\n",
       "a358fMT5aZ4xBnVdY7fb/Vm8Uhxd1xXPS/2dqyisBPcWxpiebtEvKSUppXqiT0Xq/hzw0rLJVYu7\n",
       "tp4yJXBDkbtfAvMb8eOJ3E1xLHnjrQ6c+1v64tgMOO8nSr3fBDivKnNvuE2B0yPOFrCLgdOeeGnv\n",
       "sTpw2gtsBVsMnHq7hQaLgNMSVtqobwbMZyshxKql60fA3vv4Pp87bHL+ZsB8bpNSFsFyN7YG8N+h\n",
       "vpR7UefcowedGc65wf74FeOpgT8cDnS/34thAeB2u0Ep9ft0A6MH/P7+TiGERbAAYK1dbYWjEsfj\n",
       "kS6XC7TWOJ1OwKOUDY4QAgCAd+J+v2O/378cFsC/Ewey08PSWK1KDJ3NfhJrwBIR3s7n83/v0lr+\n",
       "AsA3EDOtLe6OQ8YAAAAASUVORK5CYII=\n",
       "\" transform=\"translate(1795, 234)\"/>\n",
       "</g>\n",
       "</svg>\n"
      ]
     },
     "execution_count": 15,
     "metadata": {},
     "output_type": "execute_result"
    }
   ],
   "source": [
    "N=20\n",
    "H=10\n",
    "idők=zeros(N)\n",
    "for n=1:N\n",
    "  t0=time_ns()\n",
    "  for h=1:H gen01(n,ír=false)(1) end\n",
    "  idők[n]=(time_ns()-t0)/(H*1e9)\n",
    "end\n",
    "println( Int(floor(2^N / idők[N])),\" csúcsot vizsgál másodpercenként. A használt cpu:\")\n",
    "run( pipeline(  `cat /proc/cpuinfo`, `grep -m 1 -i mhz` ) );\n",
    "using Plots, LaTeXStrings # matematikai jelölések használata\n",
    "plot( 1:N, log.(idők), label=\"actual running time\", ylabel=\"sec\", xlabel=\"problem size\" )\n",
    "plot!( 1:N, log(2)*(1:N), label=L\"2^n\" )\n"
   ]
  },
  {
   "cell_type": "markdown",
   "metadata": {},
   "source": [
    "Ezt a technikát használhatjuk a [hátizsák-feladat](https://en.wikipedia.org/wiki/Knapsack_problem) megoldására.<br>\n",
    "\n",
    "### Probléma:<br> \n",
    "A következőkben minden adat pozitív egész szám.<br>\n",
    "Adott $n$ tárgy, $w_1,\\cdots,w_n$ súlyokkal és $v_1,\\cdots,v_n$ értékekkel.<br> \n",
    "Van egy $K$ kapacitású hátizsák, amibe minnél nagyobb *összértékű* részhalmazát akarjuk bepakolni a tárgyaknak. \n",
    "\n",
    "### Megoldás:<br> \n",
    "Minden olyan részhalmazt megvizsgálunk, ami belefér a zsákba. Brute force.\n",
    "\n",
    "### Implementáció:<br> \n",
    "A gen01-et átalakítása."
   ]
  },
  {
   "cell_type": "code",
   "execution_count": 72,
   "metadata": {},
   "outputs": [
    {
     "data": {
      "text/plain": [
       "ks (generic function with 1 method)"
      ]
     },
     "execution_count": 72,
     "metadata": {},
     "output_type": "execute_result"
    }
   ],
   "source": [
    "function ks(v, w, K) # hátizsák:knapsack\n",
    "  n=length(w)\n",
    "  optV=0\n",
    "  function bejár( szint, aktV, aktW )\n",
    "    if szint>n\n",
    "      optV=max(optV, aktV)\n",
    "      return\n",
    "    else\n",
    "      if( aktW+w[szint] <= K )\n",
    "        bejár( 1+szint, aktV+v[szint], aktW+w[szint] )\n",
    "      end\n",
    "      bejár( 1+szint, aktV, aktW )\n",
    "    end\n",
    "  end\n",
    "  bejár(1,0,0)\n",
    "  optV\n",
    "end\n"
   ]
  },
  {
   "cell_type": "markdown",
   "metadata": {},
   "source": [
    "Teszteljük le néhány esetre:"
   ]
  },
  {
   "cell_type": "code",
   "execution_count": 73,
   "metadata": {},
   "outputs": [
    {
     "name": "stdout",
     "output_type": "stream",
     "text": [
      "29\n",
      "40\n",
      "280\n"
     ]
    }
   ],
   "source": [
    "# http://www.mafy.lut.fi/study/DiscreteOpt/DYNKNAP.pdf, opt=29\n",
    "v1 = [ 15,10,9,5 ]\n",
    "w1 = [ 1,5,3,4 ]\n",
    "K1 = 8\n",
    "println( ks( v1, w1, K1 ) )\n",
    "# https://www.cs.colostate.edu/~cs475/f14/Lectures/Lec4Knapsack.pdf, opt=40\n",
    "v2 = [ 1,6,18,22,28 ]\n",
    "w2 = [ 1,2,5,6,7 ]\n",
    "K2 = 11\n",
    "println( ks( v2, w2, K2 ) )\n",
    "# http://www.or.deis.unibo.it/kp/Chapter2.pdf , opt=280\n",
    "v3 = [ 15,100,90,60,40,15,10,1 ]\n",
    "w3 = [ 2,20,20,30,40,30,60,10 ]\n",
    "K3 = 102\n",
    "println( ks( v3, w3, K3 ) )\n"
   ]
  },
  {
   "cell_type": "markdown",
   "metadata": {},
   "source": [
    "Csináljunk egy nagyobb inputot:"
   ]
  },
  {
   "cell_type": "code",
   "execution_count": 103,
   "metadata": {},
   "outputs": [
    {
     "name": "stdout",
     "output_type": "stream",
     "text": [
      "n=26\n",
      "493\n",
      "  2.167653 seconds (193 allocations: 10.688 KiB)\n"
     ]
    }
   ],
   "source": [
    "v4 = vcat( v1,v2,v3,v1,v2 )\n",
    "w4 = vcat( w1,w2,w3,w1,w2 )\n",
    "K = K1+K2+K3+K1+K2\n",
    "println( \"n=\", length(v) )\n",
    "@time println( ks( v4, w4, K ) )\n"
   ]
  },
  {
   "cell_type": "markdown",
   "metadata": {},
   "source": [
    "Hogyan tudnánk ezt a módszert gyorsítani? <br>\n",
    "A következő egyszerű technika megtalálható a Pascal nyelv atyja által írt [könyvben](https://moly.hu/konyvek/niklaus-wirth-algoritmusok-adatstrukturak-programok)"
   ]
  },
  {
   "cell_type": "code",
   "execution_count": 91,
   "metadata": {},
   "outputs": [
    {
     "data": {
      "text/plain": [
       "ksV (generic function with 1 method)"
      ]
     },
     "execution_count": 91,
     "metadata": {},
     "output_type": "execute_result"
    }
   ],
   "source": [
    "function ksV( v, w, K )\n",
    "  n=length(w)\n",
    "  optV=0\n",
    "  function bejár( szint, aktV, aktW, sumV )\n",
    "    if szint > n\n",
    "      optV=max( optV, aktV )\n",
    "      return\n",
    "    else\n",
    "      if aktW+w[szint] <= K \n",
    "        bejár( 1+szint, aktV+v[szint], aktW+w[szint], sumV )\n",
    "      end\n",
    "      sumV -= v[szint];\n",
    "      if sumV > optV\n",
    "        bejár( 1+szint, aktV, aktW, sumV )\n",
    "      end\n",
    "    end\n",
    "  end\n",
    "  bejár(1,0,0,sum(v))\n",
    "  optV\n",
    "end  \n"
   ]
  },
  {
   "cell_type": "code",
   "execution_count": 109,
   "metadata": {},
   "outputs": [
    {
     "name": "stdout",
     "output_type": "stream",
     "text": [
      "n=34\n",
      "620\n",
      "  3.460681 seconds (112.58 M allocations: 1.678 GiB, 9.11% gc time)\n"
     ]
    }
   ],
   "source": [
    "v5=vcat(v4,v3)\n",
    "w5=vcat(w4,w3)\n",
    "println( \"n=\", length(v5) )\n",
    "@time println( ksV( v5, w5, K ) )"
   ]
  },
  {
   "cell_type": "markdown",
   "metadata": {},
   "source": [
    "Egy másik egyszerű dolgot is kiaknázhatunk,<br>\n",
    "rendezzük a tárgyakat relatív értékesség szerint $\\frac{Ft}{kg}$ :\n",
    "$$\n",
    "\\frac{v_i}{w_i} \\ge \\ldots \\ge \\frac{v_n}{w_n}\n",
    "$$\n",
    "Először egyesítjuk az adatokat: vektorokból álló vektort hozunk létre.<br>\n",
    "Majd megfelelően módosítjuk a ```ksV```t.\n"
   ]
  },
  {
   "cell_type": "code",
   "execution_count": 87,
   "metadata": {},
   "outputs": [
    {
     "data": {
      "text/plain": [
       "34-element Array{Tuple{Int64,Int64},1}:\n",
       " (15, 1)  \n",
       " (15, 1)  \n",
       " (15, 2)  \n",
       " (15, 2)  \n",
       " (100, 20)\n",
       " (100, 20)\n",
       " (90, 20) \n",
       " (90, 20) \n",
       " (28, 7)  \n",
       " (28, 7)  \n",
       " (22, 6)  \n",
       " (22, 6)  \n",
       " (18, 5)  \n",
       " ⋮        \n",
       " (5, 4)   \n",
       " (5, 4)   \n",
       " (1, 1)   \n",
       " (40, 40) \n",
       " (1, 1)   \n",
       " (40, 40) \n",
       " (15, 30) \n",
       " (15, 30) \n",
       " (10, 60) \n",
       " (10, 60) \n",
       " (1, 10)  \n",
       " (1, 10)  "
      ]
     },
     "execution_count": 87,
     "metadata": {},
     "output_type": "execute_result"
    }
   ],
   "source": [
    "data = [ (v[i], w[i]) for i in 1:length(v) ] \n",
    "rend(x)=x[1]/x[2]\n",
    "sort!( data, by=rend, rev=true )"
   ]
  },
  {
   "cell_type": "code",
   "execution_count": 97,
   "metadata": {},
   "outputs": [
    {
     "data": {
      "text/plain": [
       "ksV2 (generic function with 1 method)"
      ]
     },
     "execution_count": 97,
     "metadata": {},
     "output_type": "execute_result"
    }
   ],
   "source": [
    "function ksV2( v, w, K )\n",
    "  data = [ (v[i], w[i]) for i in 1:length(v) ] \n",
    "  sort!( data, by=(x)->x[1]/x[2], rev=true )\n",
    "  n=length(data)\n",
    "  for i in 1:n v[i],w[i] = data[i] end\n",
    "    \n",
    "  optV=0\n",
    "  function bejár( szint, aktW, sumV )\n",
    "    if szint > n\n",
    "      optV=max( optV, sumV )\n",
    "      return\n",
    "    else\n",
    "      if aktW+w[szint] <= K \n",
    "        bejár( 1+szint, aktW+w[szint], sumV )\n",
    "      end\n",
    "      sumV -= v[szint]\n",
    "      if sumV > optV\n",
    "        bejár( 1+szint, aktW, sumV )\n",
    "      end\n",
    "    end\n",
    "  end\n",
    "  bejár( 1, 0, sum(v) )\n",
    "  optV\n",
    "end  \n"
   ]
  },
  {
   "cell_type": "code",
   "execution_count": 113,
   "metadata": {},
   "outputs": [
    {
     "name": "stdout",
     "output_type": "stream",
     "text": [
      "n=34\n",
      "620\n",
      "  0.367177 seconds (12.71 M allocations: 193.882 MiB, 11.50% gc time)\n"
     ]
    }
   ],
   "source": [
    "println( \"n=\", length(v5) )\n",
    "@time println( ksV2( v5, w5, K ) )"
   ]
  },
  {
   "cell_type": "markdown",
   "metadata": {},
   "source": [
    "Látjuk, hogy a vizsgált feladat-példányra gyorsabb megoldást kapunk.<br>\n",
    "\n",
    "Az igazán fontos dolog:<br>\n",
    "A **folytonos** hátizsák feladatra a **mohó** algoritmus optimális megoldást ad, <br>\n",
    "ha a tárgyak relatív értékesség szerint csökkenően rendezettek. Ezt [Dantzig](https://hu.wikipedia.org/wiki/George_Dantzig) fogalmazta meg először.(lásd [itt](https://en.wikipedia.org/wiki/Continuous_knapsack_problem) ) <br> \n",
    "Segítségével a még hátralevő targyakra megoldjuk a relaxált feladatot és az így kapott korlátot \n",
    "használjuk vágásra.<br>\n",
    "\n",
    "### Megvalósítás:"
   ]
  },
  {
   "cell_type": "code",
   "execution_count": 2,
   "metadata": {},
   "outputs": [
    {
     "data": {
      "text/plain": [
       "ksV3 (generic function with 1 method)"
      ]
     },
     "execution_count": 2,
     "metadata": {},
     "output_type": "execute_result"
    }
   ],
   "source": [
    "function ksV3( v, w, K )\n",
    "  data = [ (v[i], w[i]) for i in 1:length(v) ] \n",
    "  sort!( data, by=(x)->x[1]/x[2], rev=true )\n",
    "  n=length(data)\n",
    "  for i in 1:n v[i],w[i] = data[i] end\n",
    "    \n",
    "  function D(i,tK) # Dantzig korlát kiszámítása\n",
    "    o=0.0\n",
    "    while i<=n && tK>0\n",
    "      t = min( tK, w[i] )\n",
    "      tK -= t\n",
    "      o += t*v[i]/(1.0*w[i])\n",
    "      i += 1\n",
    "    end\n",
    "    Int(floor(o))\n",
    "  end\n",
    "  optV=0\n",
    "  function bejár( szint, aktW, aktV )\n",
    "    if szint > n\n",
    "      optV=max( optV, aktV )\n",
    "      return\n",
    "    else\n",
    "      if aktW+w[szint] <= K \n",
    "        bejár( 1+szint, aktW+w[szint], aktV+v[szint] )\n",
    "      end\n",
    "      if aktV + D( 1+szint, K-aktW ) > optV\n",
    "        bejár( 1+szint, aktW, aktV )\n",
    "      end\n",
    "    end\n",
    "  end\n",
    "  bejár( 1, 0, 0 )\n",
    "  optV\n",
    "end  \n"
   ]
  },
  {
   "cell_type": "code",
   "execution_count": 130,
   "metadata": {},
   "outputs": [
    {
     "name": "stdout",
     "output_type": "stream",
     "text": [
      "n=34\n",
      "890\n",
      "  0.000041 seconds (109 allocations: 3.109 KiB)\n"
     ]
    }
   ],
   "source": [
    "println( \"n=\", length(v5) )\n",
    "@time println( ksV3( v5, w5, K ) )"
   ]
  },
  {
   "cell_type": "code",
   "execution_count": 137,
   "metadata": {},
   "outputs": [
    {
     "name": "stdout",
     "output_type": "stream",
     "text": [
      "n=110\n",
      "3001\n",
      "  0.000241 seconds (305 allocations: 8.422 KiB)\n"
     ]
    }
   ],
   "source": [
    "v6 = vcat(v5,v5,v5,v3)\n",
    "w6 = vcat(w5,w5,w5,w3)\n",
    "K = K+K\n",
    "println( \"n=\", length(v6) )\n",
    "@time println( ksV3( v6, w6, K ) )"
   ]
  },
  {
   "cell_type": "markdown",
   "metadata": {},
   "source": [
    "Az $6$-os adattal a ```ksV2``` már nem boldogul emberi időben, a ```ksV3``` viszont ledarálja.<br>\n"
   ]
  },
  {
   "cell_type": "markdown",
   "metadata": {},
   "source": [
    "**Fontos** hogy ennél a (rekurzív) módszernél az adatok ($v,w,K$) lehetnek **tört** számok is!<br>\n",
    "\n",
    "A következő alkalommal megismerkedünk egy **dinamikus programozás**os<br>\n",
    "(táblázatos, iteratív) megoldással, melynél a $w,K$-nak **egésznek** kell lennie."
   ]
  },
  {
   "cell_type": "code",
   "execution_count": 11,
   "metadata": {},
   "outputs": [
    {
     "name": "stdout",
     "output_type": "stream",
     "text": [
      "n=46\n",
      "7534\n",
      "  0.000046 seconds (296 allocations: 6.313 KiB)\n"
     ]
    }
   ],
   "source": [
    "# https://developers.google.com/optimization/bin/knapsack, opt=7534\n",
    "v7 = [360, 83, 59, 130, 431, 67, 230, 52, 93,\n",
    "            125, 670, 892, 600, 38, 48, 147, 78, 256,\n",
    "            63, 17, 120, 164, 432, 35, 92, 110, 22,\n",
    "            42, 50, 323, 514, 28, 87, 73, 78, 15,\n",
    "            26, 78, 210, 36, 85, 189, 274, 43, 33,\n",
    "            10, 19, 389, 276, 312]\n",
    "\n",
    "w7 = [7, 0, 30, 22, 80, 94, 11, 81, 70,\n",
    "              64, 59, 18, 0, 36, 3, 8, 15, 42,\n",
    "              9, 0, 42, 47, 52, 32, 26, 48, 55,\n",
    "              6, 29, 84, 2, 4, 18, 56, 7, 29,\n",
    "              93, 44, 71, 3, 86, 66, 31, 65, 0,\n",
    "              79, 20, 65, 52, 13]\n",
    "\n",
    "tuti = sum( v7[ w7 .== 0 ] ) # a nulla súlyuakat alapból berakja\n",
    "v7 = v7[ w7 .> 0 ] # és ki is dobálja (v/w értelmetlen 0-ra)\n",
    "w7 = w7[ w7 .> 0 ]\n",
    "\n",
    "K = 850\n",
    "println( \"n=\", length(v7) )\n",
    "@time println( tuti + ksV3( v7, w7, K ) )"
   ]
  },
  {
   "cell_type": "code",
   "execution_count": null,
   "metadata": {},
   "outputs": [],
   "source": []
  }
 ],
 "metadata": {
  "@webio": {
   "lastCommId": "729305d0c56e4a1c8f562d5dd59f9605",
   "lastKernelId": "96f11483-460f-4284-9fe3-c31f9fd50a96"
  },
  "kernelspec": {
   "display_name": "Julia 1.0.2",
   "language": "julia",
   "name": "julia-1.0"
  },
  "language_info": {
   "file_extension": ".jl",
   "mimetype": "application/julia",
   "name": "julia",
   "version": "1.0.2"
  }
 },
 "nbformat": 4,
 "nbformat_minor": 2
}
