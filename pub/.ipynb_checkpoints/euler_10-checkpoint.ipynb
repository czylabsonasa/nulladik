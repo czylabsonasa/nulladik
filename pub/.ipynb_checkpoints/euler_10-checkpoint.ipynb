{
 "cells": [
  {
   "cell_type": "code",
   "execution_count": null,
   "metadata": {},
   "outputs": [],
   "source": [
    "https://projecteuler.net/problem=10\n",
    "\n",
    "A 7-es feladatból egyszerűen kihozható (lassú)."
   ]
  },
  {
   "cell_type": "code",
   "execution_count": 7,
   "metadata": {},
   "outputs": [
    {
     "name": "stdout",
     "output_type": "stream",
     "text": [
      "2000003\n"
     ]
    },
    {
     "data": {
      "text/plain": [
       "142913828922"
      ]
     },
     "execution_count": 7,
     "metadata": {},
     "output_type": "execute_result"
    }
   ],
   "source": [
    "pr = [ 3,5,7,11 ]\n",
    "#lim = 150001\n",
    "npr = 5\n",
    "n = 13\n",
    "while pr[npr-1] < 2000000\n",
    "  i, ip = 1, true\n",
    "  while pr[i]^2 <= n \n",
    "    if 0 == n%pr[i] \n",
    "      ip = false; break \n",
    "    end\n",
    "    i += 1\n",
    "  end\n",
    "  if true == ip \n",
    "    npr += 1\n",
    "    push!( pr, n ) \n",
    "  end\n",
    "  n += 2\n",
    "end\n",
    "println(pr[ npr-1 ])\n",
    "2+sum(pr[1:npr-2])"
   ]
  },
  {
   "cell_type": "code",
   "execution_count": null,
   "metadata": {},
   "outputs": [],
   "source": []
  },
  {
   "cell_type": "code",
   "execution_count": null,
   "metadata": {},
   "outputs": [],
   "source": []
  }
 ],
 "metadata": {
  "@webio": {
   "lastCommId": "58a7f2e5b3194be284e363e06fc5873b",
   "lastKernelId": "ece4fccf-3288-4a08-a5ac-db48d5137ffa"
  },
  "kernelspec": {
   "display_name": "Julia 1.0.2",
   "language": "julia",
   "name": "julia-1.0"
  },
  "language_info": {
   "file_extension": ".jl",
   "mimetype": "application/julia",
   "name": "julia",
   "version": "1.0.2"
  }
 },
 "nbformat": 4,
 "nbformat_minor": 2
}
