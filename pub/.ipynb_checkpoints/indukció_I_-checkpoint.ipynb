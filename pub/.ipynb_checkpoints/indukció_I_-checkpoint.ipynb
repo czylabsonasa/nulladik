{
 "cells": [
  {
   "cell_type": "markdown",
   "metadata": {},
   "source": [
    "[teljes indukció](https://matekarcok.hu/bizonyitasi-modszerek/)\n",
    "\n",
    "### Kérdés:  \n",
    "Van-e olyan $N$, mellyel $2^n>n^2$ ha $n>N$?\n",
    "\n",
    "Nézzük meg géppel, hogy mi történik az elején:"
   ]
  },
  {
   "cell_type": "code",
   "execution_count": 6,
   "metadata": {},
   "outputs": [
    {
     "name": "stdout",
     "output_type": "stream",
     "text": [
      "0            1\n",
      "1            1\n",
      "2            0\n",
      "3           -1\n",
      "4            0\n",
      "5            7\n",
      "6           28\n",
      "7           79\n",
      "8          192\n",
      "9          431\n",
      "10         924\n"
     ]
    }
   ],
   "source": [
    "using Printf\n",
    "for n in 0:10\n",
    "  @printf(\"%-4d%10d\\n\",n,2^n-n^2)\n",
    "end"
   ]
  },
  {
   "cell_type": "markdown",
   "metadata": {},
   "source": [
    "Látjuk, hogy $n\\ge 5$ esetén a baloldal nagyobb mint a jobb. <br>\n",
    "Az a sejtésünk, hogy innen kezdve ez mindig fennáll. <br>\n",
    "Öröklődik-e és ha igen hogyan és miért az egyenlőtlenség \n",
    "pl. $n=100$-ról $101$-re...? <br>\n",
    "Tegyük fel, hogy $n\\ge 5$ és $2^n > n^2$. Ekkor\n",
    "$$\n",
    "2^{n+1}=2\\cdot 2^{n} \\stackrel{\\text{feltevés}}{>} 2\\cdot n^2 \\stackrel{\\boxed{?}}{\\ge} (n+1)^2\n",
    "$$\n",
    "A kérdőjeles egyenlőtlenség: $n\\cdot(n-2)>1$, ami $n\\ge 5$-re igaz. <br>\n",
    "### Állítás\n",
    "$$\n",
    "2^{n} > n^2 \\ \\ \\text{ minden } n>4 \\text{ -re }\n",
    "$$\n",
    "\n",
    "### Házi feladat\n",
    "Vizsgáljuk meg az $2^n>n^3$ egyenlőtlenséget az előbbi módon!\n"
   ]
  },
  {
   "cell_type": "markdown",
   "metadata": {},
   "source": [
    "### Kérdés:  \n",
    "Van-e olyan $N$, mellyel $n!>5^n$ ha $n>N$?\n",
    "\n",
    "Nézzük meg géppel, hogy mi történik az elején:"
   ]
  },
  {
   "cell_type": "code",
   "execution_count": 11,
   "metadata": {},
   "outputs": [
    {
     "name": "stdout",
     "output_type": "stream",
     "text": [
      "1                  -4037\n",
      "2                  -8074\n",
      "3                 -16146\n",
      "4                 -32280\n",
      "5                 -64488\n",
      "6                -128496\n",
      "7                -253392\n",
      "8                -476544\n",
      "9                -670848\n",
      "10               1561344\n",
      "11              35781888\n",
      "12             470731776\n",
      "13            6210481152\n",
      "14           87145211904\n",
      "15         1307608209408\n",
      "16        20922657570816\n",
      "17       355687163461632\n",
      "18      6402373176459264\n",
      "19    121645099350294528\n",
      "20   2432902006059565056\n"
     ]
    }
   ],
   "source": [
    "for n in 1:20\n",
    "  @printf(\"%-4d%20d\\n\",n,prod(1:n)-2019*2^n)\n",
    "end"
   ]
  },
  {
   "cell_type": "markdown",
   "metadata": {},
   "source": [
    "Látjuk, hogy $n\\ge 4$ esetén a baloldal nagyobb mint a jobb. <br>\n",
    "Az a sejtésünk, hogy innen kezdve ez mindig fennáll. <br>\n",
    "Öröklődik-e és ha igen hogyan és miért az egyenlőtlenség \n",
    "pl. $n=1000$-ról $1001$-re...? <br>\n",
    "Tegyük fel, hogy $n\\ge 4$ és $n! > 2^n$. Ekkor\n",
    "$$\n",
    "(n+1)!=(n+1)\\cdot n! \\stackrel{\\text{feltevés}}{>} (n+1)\\cdot 2^n \\stackrel{n+1>2}{>} 2^{n+1}\n",
    "$$\n",
    "### Állítás\n",
    "$$\n",
    "n! > 2^n \\ \\ \\text{ minden } n>3 \\text{ -re }\n",
    "$$\n",
    "\n",
    "### Házi feladat\n",
    "Vizsgáljuk meg az $n!>2019\\cdot 2^n$ egyenlőtlenséget az előbbi módon!\n"
   ]
  },
  {
   "cell_type": "code",
   "execution_count": null,
   "metadata": {},
   "outputs": [],
   "source": []
  }
 ],
 "metadata": {
  "@webio": {
   "lastCommId": "ae014fdd3102495f875515beabc11416",
   "lastKernelId": "5349cd98-5d02-4bc8-8bb2-1241889462d2"
  },
  "kernelspec": {
   "display_name": "Julia 1.0.2",
   "language": "julia",
   "name": "julia-1.0"
  },
  "language_info": {
   "file_extension": ".jl",
   "mimetype": "application/julia",
   "name": "julia",
   "version": "1.0.2"
  }
 },
 "nbformat": 4,
 "nbformat_minor": 2
}
