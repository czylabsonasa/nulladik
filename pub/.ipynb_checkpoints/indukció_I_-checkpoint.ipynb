{
 "cells": [
  {
   "cell_type": "markdown",
   "metadata": {},
   "source": [
    "### Ismétlés:\n",
    "[teljes indukció](https://matekarcok.hu/bizonyitasi-modszerek/)\n",
    "\n",
    "### Kérdés:\n",
    "\n",
    "Van-e olyan $N$, mellyel $2^n>n^2$ ha $n>N$?\n",
    "\n",
    "Nézzük meg géppel, hogy mi történik az elején:"
   ]
  },
  {
   "cell_type": "code",
   "execution_count": null,
   "metadata": {},
   "outputs": [],
   "source": [
    "using Printf\n",
    "for n in 0:10\n",
    "  @printf(\"%-4d%10d\\n\",n,2^n-n^2)\n",
    "end"
   ]
  },
  {
   "cell_type": "markdown",
   "metadata": {},
   "source": [
    "Látjuk, hogy $n\\ge 5$ esetén a baloldal nagyobb mint a jobb. <br>\n",
    "Az a sejtésünk, hogy innen kezdve ez mindig fennáll. <br>\n",
    "Öröklődik-e és ha igen hogyan és miért az egyenlőtlenség \n",
    "pl. $n=100$-ról $101$-re...? <br>\n",
    "Tegyük fel, hogy $n\\ge 5$ és $2^n > n^2$. Ekkor\n",
    "$$\n",
    "2^{n+1}=2\\cdot 2^{n} \\stackrel{\\text{feltevés}}{>} 2\\cdot n^2 \\stackrel{\\boxed{?}}{\\ge} (n+1)^2\n",
    "$$\n",
    "A kérdőjeles egyenlőtlenség: $n\\cdot(n-2)>1$, ami $n\\ge 5$-re igaz. <br>\n",
    "### Állítás:\n",
    "$$\n",
    "2^{n} > n^2 \\ \\ \\text{ minden } n>4 \\text{ -re }\n",
    "$$\n",
    "\n",
    "### Házi feladat:\n",
    "Vizsgáljuk meg az $2^n>n^3$ egyenlőtlenséget az előbbi módon!\n"
   ]
  },
  {
   "cell_type": "markdown",
   "metadata": {},
   "source": [
    "### Kérdés:  \n",
    "Van-e olyan $N$, mellyel $n!>2^n$ ha $n>N$?\n",
    "\n",
    "Nézzük meg géppel, hogy mi történik az elején:"
   ]
  },
  {
   "cell_type": "code",
   "execution_count": null,
   "metadata": {},
   "outputs": [],
   "source": [
    "for n in 1:20\n",
    "  @printf(\"%-4d%20d\\n\",n,prod(1:n)-2^n)\n",
    "end"
   ]
  },
  {
   "cell_type": "markdown",
   "metadata": {},
   "source": [
    "Látjuk, hogy $n\\ge 4$ esetén a baloldal nagyobb mint a jobb. <br>\n",
    "Az a sejtésünk, hogy innen kezdve ez mindig fennáll. <br>\n",
    "Öröklődik-e és ha igen hogyan és miért az egyenlőtlenség \n",
    "pl. $n=1000$-ról $1001$-re...? <br>\n",
    "Tegyük fel, hogy $n\\ge 4$ és $n! > 2^n$. Ekkor\n",
    "$$\n",
    "(n+1)!=(n+1)\\cdot n! \\stackrel{\\text{feltevés}}{>} (n+1)\\cdot 2^n \\stackrel{n+1>2}{>} 2^{n+1}\n",
    "$$\n",
    "### Állítás:\n",
    "$$\n",
    "n! > 2^n \\ \\ \\text{ minden } n>3 \\text{ -re }\n",
    "$$\n",
    "\n",
    "### Házi feladat:\n",
    "1. Vizsgáljuk meg az $n!>2019\\cdot 5^n$ egyenlőtlenséget az előbbi módon!<br><br>\n",
    "1. Egy $a_1,\\ldots a_n$ vektort kétféle módszerrel transzformálhatunk át egy $b_1,\\ldots b_n$ vektorba.<br> \n",
    "    Az egyik $3\\cdot n!$, a másik $10\\cdot n^3 \\cdot 3^n$ múveletet igényel. Melyik módszert használjuk ha $n<1000$ ?<br><br>\n",
    "1. $3$-as és $5$-ös petákjaid vannak korlátlan mennyiségben. Milyen összegeket tudsz pontosan kifizetni ?<br><br>\n",
    "\n",
    "1. $31$-es és $41$-es petákjaid vannak korlátlan mennyiségben. Milyen összegeket tudsz pontosan kifizetni ?<br><br>\n",
    "\n",
    "1. Egy $2^n \\times 2^n$-es sakktáblán az egyik mező tiltott (nem tehetünk rá semmit). Lefedhető a tábla \n",
    "    egyrétűen L-alakú (:.) dominókkal?\n",
    "\n",
    "[comment]: <> (3. Mutassuk meg, hogy $\\sum_{n=1}^{N} n^k \\le N^{k}\\frac{N + 1}{2}$ !)\n",
    "\n"
   ]
  },
  {
   "cell_type": "markdown",
   "metadata": {},
   "source": [
    "### Julia:\n",
    "[printf használata](https://docs.julialang.org/en/v1.1/stdlib/Printf/#Printf-1)"
   ]
  }
 ],
 "metadata": {
  "@webio": {
   "lastCommId": "ae014fdd3102495f875515beabc11416",
   "lastKernelId": "5349cd98-5d02-4bc8-8bb2-1241889462d2"
  },
  "kernelspec": {
   "display_name": "Julia 1.0.2",
   "language": "julia",
   "name": "julia-1.0"
  },
  "language_info": {
   "file_extension": ".jl",
   "mimetype": "application/julia",
   "name": "julia",
   "version": "1.0.2"
  }
 },
 "nbformat": 4,
 "nbformat_minor": 2
}
