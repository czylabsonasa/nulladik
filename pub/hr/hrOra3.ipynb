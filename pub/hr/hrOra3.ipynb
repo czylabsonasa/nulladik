{
 "cells": [
  {
   "cell_type": "markdown",
   "metadata": {},
   "source": [
    "```julia\n",
    "# https://www.hackerrank.com/challenges/reduced-string/problem\n",
    "# let\n",
    "#   st, p = [], nothing\n",
    "#   for c in readline()\n",
    "#     if c != p\n",
    "#       push!(st,c) \n",
    "#       p=c\n",
    "#     else\n",
    "#       st = st[1:end-1]\n",
    "#       p = nothing\n",
    "#       if length(st)>0 p=st[end] end\n",
    "#     end\n",
    "#   end\n",
    "#   if length(st)>0 \n",
    "#     println(join(st))\n",
    "#   else\n",
    "#     println(\"Empty String\")\n",
    "#   end\n",
    "# end\n",
    "let\n",
    "  st = ['_']\n",
    "  for c in readline()\n",
    "    c != st[end] ? push!(st,c) : (st = st[1:end-1])\n",
    "  end\n",
    "  length(st)>1 ? println(join(st[2:end])) : println(\"Empty String\")\n",
    "end\n",
    "```"
   ]
  },
  {
   "cell_type": "markdown",
   "metadata": {},
   "source": [
    "```julia\n",
    "# https://www.hackerrank.com/challenges/camelcase/problem\n",
    "println(1 + sum( isuppercase.(collect(readline()))))\n",
    "```"
   ]
  },
  {
   "cell_type": "markdown",
   "metadata": {},
   "source": [
    "```julia\n",
    "# https://www.hackerrank.com/challenges/hackerrank-in-a-string/problem\n",
    "function solve(sztr)\n",
    "  sztr=[ c for c in sztr if c in \"hackern\" ]\n",
    "  n=length(sztr)\n",
    "  i=1\n",
    "  for c in \"hackerrank\"\n",
    "    if i>n return \"NO\" end\n",
    "    ii=findfirst(isequal(c),sztr[i:n])\n",
    "    if nothing==ii return \"NO\" end\n",
    "    i+=ii\n",
    "  end\n",
    "  \"YES\"\n",
    "end\n",
    "\n",
    "T=parse(Int,strip(readline()))\n",
    "for _ in 1:T\n",
    "  println( solve(lowercase(strip(readline()))))\n",
    "end\n",
    "```\n"
   ]
  },
  {
   "cell_type": "markdown",
   "metadata": {},
   "source": [
    "```julia\n",
    "# https://www.hackerrank.com/challenges/closest-numbers/problem\n",
    "# rendezés + linear scan\n",
    "let\n",
    "  n=parse(Int,readline())\n",
    "  arr=sort!(parse.(Int,split(readline())))\n",
    "  n=length(arr) # mert van egy invalid test eset\n",
    "  opt=arr[2]-arr[1]\n",
    "  sol=[1]\n",
    "  for i in 2:n-1\n",
    "    d=arr[i+1]-arr[i]\n",
    "    if d<opt\n",
    "      opt=d\n",
    "      sol=[i]\n",
    "      continue\n",
    "    end\n",
    "    if d==opt\n",
    "      push!(sol, i)\n",
    "    end\n",
    "  end\n",
    "  for i in sol \n",
    "    print(arr[i],\" \",arr[i+1],\" \")\n",
    "  end\n",
    "  println()\n",
    "end\n",
    "\n",
    "```"
   ]
  },
  {
   "cell_type": "markdown",
   "metadata": {},
   "source": [
    "```julia\n",
    "# https://www.hackerrank.com/challenges/find-the-median/problem\n",
    "\n",
    "let\n",
    "  readline()\n",
    "  arr=sort!(parse.(Int,split(readline())))\n",
    "  n=length(arr)\n",
    "  println(arr[div(n+1,2)])\n",
    "end\n",
    "```"
   ]
  },
  {
   "cell_type": "markdown",
   "metadata": {},
   "source": [
    "```julia\n",
    "# https://www.hackerrank.com/challenges/recursive-digit-sum/problem\n",
    "let\n",
    "  n,k=split(readline())\n",
    "  k=parse(Int,k)\n",
    "  n=sum(parse.(Int,collect(n)))*k\n",
    "  while n>9\n",
    "    n=sum(digits(n))\n",
    "  end\n",
    "  println(n)\n",
    "end\n",
    "```\n"
   ]
  }
 ],
 "metadata": {
  "@webio": {
   "lastCommId": "9341b8516fc948e29afa4fbdf1ac95c6",
   "lastKernelId": "9e56ce81-8c43-43df-9f36-ba61452e03ed"
  },
  "kernelspec": {
   "display_name": "Julia 1.0.2",
   "language": "julia",
   "name": "julia-1.0"
  },
  "language_info": {
   "file_extension": ".jl",
   "mimetype": "application/julia",
   "name": "julia",
   "version": "1.0.2"
  }
 },
 "nbformat": 4,
 "nbformat_minor": 2
}
