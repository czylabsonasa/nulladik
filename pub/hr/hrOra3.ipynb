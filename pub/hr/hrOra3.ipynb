{
 "cells": [
  {
   "cell_type": "markdown",
   "metadata": {},
   "source": [
    "```julia\n",
    "# https://www.hackerrank.com/challenges/reduced-string/problem\n",
    "# let\n",
    "#   st, p = [], nothing\n",
    "#   for c in readline()\n",
    "#     if c != p\n",
    "#       push!(st,c) \n",
    "#       p=c\n",
    "#     else\n",
    "#       st = st[1:end-1]\n",
    "#       p = nothing\n",
    "#       if length(st)>0 p=st[end] end\n",
    "#     end\n",
    "#   end\n",
    "#   if length(st)>0 \n",
    "#     println(join(st))\n",
    "#   else\n",
    "#     println(\"Empty String\")\n",
    "#   end\n",
    "# end\n",
    "let\n",
    "  st = ['_']\n",
    "  for c in readline()\n",
    "    c != st[end] ? push!(st,c) : (st = st[1:end-1])\n",
    "  end\n",
    "  length(st)>1 ? println(join(st[2:end])) : println(\"Empty String\")\n",
    "end\n",
    "```"
   ]
  },
  {
   "cell_type": "markdown",
   "metadata": {},
   "source": [
    "```julia\n",
    "# https://www.hackerrank.com/challenges/camelcase/problem\n",
    "println(1 + sum( isuppercase.(collect(readline()))))\n",
    "```"
   ]
  },
  {
   "cell_type": "markdown",
   "metadata": {},
   "source": [
    "```julia\n",
    "# https://www.hackerrank.com/challenges/hackerrank-in-a-string/problem\n",
    "function solve(sztr)\n",
    "  sztr=[ c for c in sztr if c in \"hackern\" ]\n",
    "  n=length(sztr)\n",
    "  i=1\n",
    "  for c in \"hackerrank\"\n",
    "    if i>n return \"NO\" end\n",
    "    ii=findfirst(isequal(c),sztr[i:n])\n",
    "    if nothing==ii return \"NO\" end\n",
    "    i+=ii\n",
    "  end\n",
    "  \"YES\"\n",
    "end\n",
    "\n",
    "T=parse(Int,strip(readline()))\n",
    "for _ in 1:T\n",
    "  println( solve(lowercase(strip(readline()))))\n",
    "end\n",
    "```\n"
   ]
  },
  {
   "cell_type": "markdown",
   "metadata": {},
   "source": [
    "```julia\n",
    "# https://www.hackerrank.com/challenges/closest-numbers/problem\n",
    "# rendezés + linear scan\n",
    "let\n",
    "  n=parse(Int,readline())\n",
    "  arr=sort!(parse.(Int,split(readline())))\n",
    "  n=length(arr) # mert van egy invalid test eset\n",
    "  opt=arr[2]-arr[1]\n",
    "  sol=[1]\n",
    "  for i in 2:n-1\n",
    "    d=arr[i+1]-arr[i]\n",
    "    if d<opt\n",
    "      opt=d\n",
    "      sol=[i]\n",
    "      continue\n",
    "    end\n",
    "    if d==opt\n",
    "      push!(sol, i)\n",
    "    end\n",
    "  end\n",
    "  for i in sol \n",
    "    print(arr[i],\" \",arr[i+1],\" \")\n",
    "  end\n",
    "  println()\n",
    "end\n",
    "\n",
    "```"
   ]
  },
  {
   "cell_type": "markdown",
   "metadata": {},
   "source": [
    "```julia\n",
    "# https://www.hackerrank.com/challenges/find-the-median/problem\n",
    "\n",
    "let\n",
    "  readline()\n",
    "  arr=sort!(parse.(Int,split(readline())))\n",
    "  n=length(arr)\n",
    "  println(arr[div(n+1,2)])\n",
    "end\n",
    "```"
   ]
  },
  {
   "cell_type": "markdown",
   "metadata": {},
   "source": [
    "```julia\n",
    "# https://www.hackerrank.com/challenges/recursive-digit-sum/problem\n",
    "let\n",
    "  n,k=split(readline())\n",
    "  k=parse(Int,k)\n",
    "  n=sum(parse.(Int,collect(n)))*k\n",
    "  while n>9\n",
    "    n=sum(digits(n))\n",
    "  end\n",
    "  println(n)\n",
    "end\n",
    "```\n"
   ]
  },
  {
   "cell_type": "markdown",
   "metadata": {},
   "source": [
    "```julia\n",
    "# generating all (0,1) sequences\n",
    "let\n",
    "  maxlevel=3\n",
    "  akt=Array{Char}(undef, maxlevel)\n",
    "  function gen(level)\n",
    "    #println(level,\" \",maxlevel)\n",
    "    if level>maxlevel\n",
    "      println(join(akt))\n",
    "    else\n",
    "      akt[level]='0'\n",
    "      gen(1+level)\n",
    "      akt[level]='1'\n",
    "      gen(1+level)\n",
    "    end\n",
    "  end\n",
    "\n",
    "  gen(1)\n",
    "end\n",
    "```"
   ]
  },
  {
   "cell_type": "markdown",
   "metadata": {},
   "source": [
    "```julia\n",
    "# https://www.hackerrank.com/challenges/the-power-sum/problem\n",
    "# rekurzio\n",
    "\n",
    "let\n",
    "  N=parse(Int,readline())\n",
    "  k=parse(Int,readline())\n",
    "\n",
    "  lista=[] \n",
    "  c=1\n",
    "  while c^k<=N\n",
    "    push!(lista,c^k)\n",
    "    c+=1\n",
    "  end\n",
    "  nLista=length(lista)\n",
    "  all=0\n",
    "\n",
    "  function gen(sum,i)\n",
    "    while i<=nLista\n",
    "      akt=lista[i]\n",
    "      if sum+akt>N return end\n",
    "      if sum+akt==N all+=1; return end\n",
    "      if sum+akt<N \n",
    "        gen(sum+akt,i+1)\n",
    "      end\n",
    "      i+=1\n",
    "    end\n",
    "  end\n",
    "  gen(0,1)\n",
    "\n",
    "  println(all)\n",
    "end\n",
    "```"
   ]
  },
  {
   "cell_type": "code",
   "execution_count": null,
   "metadata": {},
   "outputs": [],
   "source": []
  }
 ],
 "metadata": {
  "@webio": {
   "lastCommId": "15823a60b4c64b5582a188ad168815bb",
   "lastKernelId": "9e56ce81-8c43-43df-9f36-ba61452e03ed"
  },
  "kernelspec": {
   "display_name": "Julia 1.0.2",
   "language": "julia",
   "name": "julia-1.0"
  },
  "language_info": {
   "file_extension": ".jl",
   "mimetype": "application/julia",
   "name": "julia",
   "version": "1.0.2"
  }
 },
 "nbformat": 4,
 "nbformat_minor": 2
}
