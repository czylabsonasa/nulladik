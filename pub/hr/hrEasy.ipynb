{
 "cells": [
  {
   "cell_type": "markdown",
   "metadata": {},
   "source": [
    "a [hackerrank](https://www.hackerrank.com) oldalról nézünk meg néhány feladatot. \n",
    "\n",
    "---\n",
    "\n",
    "a [bemelegítő](https://www.hackerrank.com/domains/algorithms?filters%5Bsubdomains%5D%5B%5D=warmup)nek szánt (könnyű) feladatok közül sajnos csak egyetlen küldhető be julia-ban: \n",
    "<br>\n",
    "\n"
   ]
  },
  {
   "cell_type": "markdown",
   "metadata": {},
   "source": [
    "### [solve-me-first](https://www.hackerrank.com/challenges/solve-me-first/problem)\n",
    "\n",
    "---\n",
    "nézzük meg a [parse, readline](https://riptutorial.com/julia-lang/example/24051/reading-numbers-from-standard-input) oldalt, vagy a beépített helpet."
   ]
  },
  {
   "cell_type": "code",
   "execution_count": null,
   "metadata": {},
   "outputs": [],
   "source": [
    "a=parse(Int,readline())\n",
    "b=parse(Int,readline())\n",
    "println(a+b)"
   ]
  },
  {
   "cell_type": "markdown",
   "metadata": {
    "collapsed": true
   },
   "source": [
    "Rövidebb formában:"
   ]
  },
  {
   "cell_type": "code",
   "execution_count": null,
   "metadata": {},
   "outputs": [],
   "source": [
    "println( parse(Int,readline()) + parse(Int,readline()) )"
   ]
  },
  {
   "cell_type": "markdown",
   "metadata": {
    "collapsed": true
   },
   "source": [
    "### [best-divisor](https://www.hackerrank.com/challenges/best-divisor/problem) \n",
    "\n",
    "---\n",
    "Az alább látható megoldás megpróbálja kihasználni a nyelv lehetőségeit. Töltsünk el egy kis időt a megértésével!\n"
   ]
  },
  {
   "cell_type": "code",
   "execution_count": null,
   "metadata": {},
   "outputs": [],
   "source": [
    "n=parse(Int,readline())\n",
    "d = (1:n)[ mod.(n,1:n) .== 0 ]\n",
    "ds=sum.(digits.(d))\n",
    "println(d[ds .== maximum(ds)][1])"
   ]
  },
  {
   "cell_type": "markdown",
   "metadata": {},
   "source": [
    "# Házi:\n",
    "### [p1-paper-cutting](https://www.hackerrank.com/challenges/p1-paper-cutting/problem)\n",
    "(nagyon könnyű. a fontos itt hogy valahogy megmagyarázd megadnak, hogy miért is az a megoldás ami...)\n",
    "\n",
    "---\n",
    "### [reverse-game](https://www.hackerrank.com/challenges/reverse-game/problem)\n",
    "a kérdéses elem helye végigkövethető, $O(n)$ algortimus könnyű találni\n",
    "\n",
    "---\n",
    "### [strong-password](https://www.hackerrank.com/challenges/strong-password/problem)\n",
    "megoldás: nyelvi elemek megfelelő használata\n",
    "\n",
    "\n",
    "\n"
   ]
  },
  {
   "cell_type": "code",
   "execution_count": null,
   "metadata": {},
   "outputs": [],
   "source": []
  }
 ],
 "metadata": {
  "@webio": {
   "lastCommId": "6599aaa0b487487e8f91abfacde7084b",
   "lastKernelId": "64284a4a-e288-4097-963c-7e1898cff2ed"
  },
  "kernelspec": {
   "display_name": "Julia 1.0.0",
   "language": "julia",
   "name": "julia-1.0"
  },
  "language_info": {
   "file_extension": ".jl",
   "mimetype": "application/julia",
   "name": "julia",
   "version": "1.0.0"
  }
 },
 "nbformat": 4,
 "nbformat_minor": 2
}
