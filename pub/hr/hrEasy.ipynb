{
 "cells": [
  {
   "cell_type": "markdown",
   "metadata": {},
   "source": [
    "a [hackerrank](https://www.hackerrank.com) oldalról a bemelegítőnek szánt (könnyű) feladatok: \n",
    "[warmup on hackerrank](https://www.hackerrank.com/domains/algorithms?filters%5Bsubdomains%5D%5B%5D=warmup)<br>\n",
    "\n",
    "sajnos csak egyetlen érhető el julia-ban: \n",
    "### [solve-me-first](https://www.hackerrank.com/challenges/solve-me-first/problem)\n",
    "nézzük meg a [parse, readline](https://riptutorial.com/julia-lang/example/24051/reading-numbers-from-standard-input) oldalt, vagy a beépített helpet."
   ]
  },
  {
   "cell_type": "code",
   "execution_count": 1,
   "metadata": {},
   "outputs": [
    {
     "name": "stdout",
     "output_type": "stream",
     "text": [
      "stdin> 123\n",
      "stdin> 123\n",
      "246\n"
     ]
    }
   ],
   "source": [
    "a=parse(Int,readline())\n",
    "b=parse(Int,readline())\n",
    "println(a+b)"
   ]
  },
  {
   "cell_type": "code",
   "execution_count": null,
   "metadata": {
    "collapsed": true
   },
   "outputs": [],
   "source": [
    "vagy ugyanez rövidebb formában:"
   ]
  },
  {
   "cell_type": "code",
   "execution_count": 4,
   "metadata": {
    "collapsed": true
   },
   "outputs": [
    {
     "name": "stdout",
     "output_type": "stream",
     "text": [
      "stdin> 1\n",
      "stdin> 2\n",
      "3\n"
     ]
    }
   ],
   "source": [
    "println( parse(Int,readline()) + parse(Int,readline()) )"
   ]
  },
  {
   "cell_type": "code",
   "execution_count": null,
   "metadata": {
    "collapsed": true
   },
   "outputs": [],
   "source": []
  }
 ],
 "metadata": {
  "@webio": {
   "lastCommId": "42cee564ff2941458f1037368ff1df05",
   "lastKernelId": "d5f0621e-ac9b-4942-bd7c-ab3408d680be"
  },
  "kernelspec": {
   "display_name": "Julia 1.0.2",
   "language": "julia",
   "name": "julia-1.0"
  },
  "language_info": {
   "file_extension": ".jl",
   "mimetype": "application/julia",
   "name": "julia",
   "version": "1.0.2"
  }
 },
 "nbformat": 4,
 "nbformat_minor": 2
}
