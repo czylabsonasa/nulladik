{
 "cells": [
  {
   "cell_type": "markdown",
   "metadata": {},
   "source": [
    "### Feladat:\n",
    "https://projecteuler.net/problem=3 <br>\n",
    "Egy adott szám legnagyobb prímfaktorát kell meghatározni. <br>\n",
    "A kis mérete miatt nem kell agyongondolkozni magunkat: "
   ]
  },
  {
   "cell_type": "code",
   "execution_count": null,
   "metadata": {},
   "outputs": [],
   "source": []
  }
 ],
 "metadata": {
  "@webio": {
   "lastCommId": "2000718c5a524e3bb9318a473f8d54bd",
   "lastKernelId": "3d2a9d59-814c-44bc-9b5c-b6469a8b7c04"
  },
  "kernelspec": {
   "display_name": "Julia 1.0.2",
   "language": "julia",
   "name": "julia-1.0"
  },
  "language_info": {
   "file_extension": ".jl",
   "mimetype": "application/julia",
   "name": "julia",
   "version": "1.0.2"
  }
 },
 "nbformat": 4,
 "nbformat_minor": 2
}
