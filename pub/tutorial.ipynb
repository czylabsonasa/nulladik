{
 "cells": [
  {
   "cell_type": "markdown",
   "metadata": {},
   "source": [
    "# Ismerkedés a Julia-val\n",
    "\n",
    "Most röviden megpróbljuk bemutatni hogy a Julia egy könnyen használható magasszintű nyelv.<br>\n",
    "Témák:\n",
    "* Sztringek\n",
    "* Adatszerkezetek\n",
    "* Ciklusok\n",
    "* Elágazások\n",
    "* Függvények"
   ]
  },
  {
   "cell_type": "markdown",
   "metadata": {},
   "source": [
    "## Sztringek"
   ]
  },
  {
   "cell_type": "code",
   "execution_count": null,
   "metadata": {},
   "outputs": [],
   "source": [
    "sztring1 = \"Hány cica \""
   ]
  },
  {
   "cell_type": "code",
   "execution_count": null,
   "metadata": {},
   "outputs": [],
   "source": [
    "sztring2 = \"túl sok?\""
   ]
  },
  {
   "cell_type": "code",
   "execution_count": null,
   "metadata": {},
   "outputs": [],
   "source": [
    "string(sztring1, sztring2)"
   ]
  },
  {
   "cell_type": "code",
   "execution_count": null,
   "metadata": {},
   "outputs": [],
   "source": [
    "😺 = 10\n",
    "println(\"Nemtom, de $😺 az elég kevés!\")"
   ]
  },
  {
   "cell_type": "markdown",
   "metadata": {},
   "source": [
    "Ahogy láthatjuk kódoláskor szinte bármilyen karaktert lehet használni.<br>\n",
    "Még1 példa:"
   ]
  },
  {
   "cell_type": "code",
   "execution_count": null,
   "metadata": {},
   "outputs": [],
   "source": [
    "😺 = 1\n",
    "♰ = 0\n",
    "😞 = -1\n",
    "😺 + 😞 == ♰"
   ]
  },
  {
   "cell_type": "markdown",
   "metadata": {},
   "source": [
    "## Adatszerkezetek"
   ]
  },
  {
   "cell_type": "markdown",
   "metadata": {},
   "source": [
    "### Rendezett n-esek\n",
    "\n",
    "Egy rendezett n-est vesszővel elválasztott elemek (kerek) zárójelbe tételével hozunk létre:\n",
    "\n",
    "Szintakszis: <br>\n",
    "```julia\n",
    "(elem1, elem2, ...)\n",
    "```\n",
    "Az egyedeket `1` bázisú indexeléssel érhetjük el. <br>\n",
    "Csak olvasható! (immutable,read-only) "
   ]
  },
  {
   "cell_type": "code",
   "execution_count": null,
   "metadata": {},
   "outputs": [],
   "source": [
    "kedvencÁllataim = (\"pingvin\", \"macska\", \"cukormókus\")\n",
    "display(kedvencÁllataim)\n",
    "display(kedvencÁllataim[2])\n",
    "kedvencÁllataim[2]=\"inkább a kutya\""
   ]
  },
  {
   "cell_type": "markdown",
   "metadata": {},
   "source": [
    "Az elemek különböző típusba is tartozhatnak: "
   ]
  },
  {
   "cell_type": "code",
   "execution_count": null,
   "metadata": {},
   "outputs": [],
   "source": [
    "kedvencDolgaim=(\"kutya\",1, pi, sin)"
   ]
  },
  {
   "cell_type": "markdown",
   "metadata": {},
   "source": [
    "### Szótárak\n",
    "\n",
    "Két egymáshoz függvényszerűen kapcsolódó adathalmazt tárolhatunk szótárban (is),<br>\n",
    "amit a `Dict()` függvénnyel hozunk létre:\n",
    "\n",
    "Szintakszis:\n",
    "```julia\n",
    "Dict(key1 => value1, key2 => value2, ...)```\n",
    "\n",
    "Példa: ismerőseinkez hozzárendeljük a telefonszámukat \n",
    "(amiből több is lehet, de ezzel most nem foglalkozunk)"
   ]
  },
  {
   "cell_type": "code",
   "execution_count": null,
   "metadata": {},
   "outputs": [],
   "source": [
    "telefonkönyv = Dict(\"Mari\" => \"867-5309\", \"Kati\" => \"555-2368\", \"Aladár\"=> \"123-123-mz/x\")"
   ]
  },
  {
   "cell_type": "markdown",
   "metadata": {},
   "source": [
    "Módosíthatók:"
   ]
  },
  {
   "cell_type": "code",
   "execution_count": null,
   "metadata": {},
   "outputs": [],
   "source": [
    "display(telefonkönyv[\"Mari\"])\n",
    "telefonkönyv[\"Mari\"]=\"000-111111\"\n",
    "display(telefonkönyv[\"Mari\"])"
   ]
  },
  {
   "cell_type": "markdown",
   "metadata": {},
   "source": [
    "A szótárt néha asszociatív tömbnek is nevezik."
   ]
  },
  {
   "cell_type": "markdown",
   "metadata": {},
   "source": [
    "### Tömbök\n",
    "\n",
    "Ha módosítható rendezett kollekciókra van szükség a tömböt használhatjuk,<br> amit \n",
    "vesszővel elválasztott elemek (szögletes) zárójelbe tételével hozunk létre:\n",
    "\n",
    "Szintakszis: <br>\n",
    "```julia\n",
    "[ elem1, elem2, ...]\n",
    "```\n",
    "\n",
    "Példák:"
   ]
  },
  {
   "cell_type": "code",
   "execution_count": null,
   "metadata": {},
   "outputs": [],
   "source": [
    "barátok = [\"Frigyes\", \"Miki\", \"Barna\", \"Lali\", \"Mari\"]"
   ]
  },
  {
   "cell_type": "code",
   "execution_count": null,
   "metadata": {},
   "outputs": [],
   "source": [
    "fibonacci = [1, 1, 2, 3, 5, 8, 13]"
   ]
  },
  {
   "cell_type": "markdown",
   "metadata": {},
   "source": [
    "A megismert adatszerkezetek kombinálhatóak:"
   ]
  },
  {
   "cell_type": "code",
   "execution_count": null,
   "metadata": {},
   "outputs": [],
   "source": [
    "vegyes = Dict( \"vegyes\" => [1, 1, 2, 3, \"Miki\", \"Frici\", (1,\"alma\"), Dict(\"a\"=>\"alma\", \"b\"=>\"banán\") ] , \"egészTömb\"=> [ 1, 2, 3 ] )"
   ]
  },
  {
   "cell_type": "markdown",
   "metadata": {},
   "source": [
    "Az ún. kétdimenziós tömbök egy kicsit másképpen adhatóak meg, erről később lesz még szó:"
   ]
  },
  {
   "cell_type": "code",
   "execution_count": null,
   "metadata": {},
   "outputs": [],
   "source": [
    "display(rand(4, 3))\n",
    "display([ 1 2 3 ; 4 5 \"asd\" ])\n",
    "display([ 1 2 3 ])"
   ]
  },
  {
   "cell_type": "markdown",
   "metadata": {},
   "source": [
    "## Ciklusok\n",
    "\n",
    "### `for` ciklus\n",
    "\n",
    "Szintakszisa:\n",
    "\n",
    "```julia\n",
    "for *változó* in *iterálható dolog*\n",
    "    *törzs*\n",
    "end\n",
    "```"
   ]
  },
  {
   "cell_type": "code",
   "execution_count": null,
   "metadata": {},
   "outputs": [],
   "source": [
    "for n in [ 1,2,3,4,5 ]\n",
    "    println(n)\n",
    "end"
   ]
  },
  {
   "cell_type": "markdown",
   "metadata": {},
   "source": [
    "### `while` ciklus\n",
    "\n",
    "Szintakszisa:\n",
    "\n",
    "```julia\n",
    "while *logikai kifejezés*\n",
    "    *törzs*\n",
    "end\n",
    "```"
   ]
  },
  {
   "cell_type": "code",
   "execution_count": null,
   "metadata": {},
   "outputs": [],
   "source": [
    "n = 0\n",
    "while n < 10\n",
    "    n += 1\n",
    "    println(n)\n",
    "end"
   ]
  },
  {
   "cell_type": "markdown",
   "metadata": {},
   "source": [
    "## Elágazások\n",
    "\n",
    "#### `if`\n",
    "\n",
    "Szintakszisa:\n",
    "\n",
    "```julia\n",
    "if *feltétel 1*\n",
    "    *törzs 1*\n",
    "elseif *feltétel 2*\n",
    "    *törzs 2*\n",
    "else\n",
    "    *törzs 3*\n",
    "end\n",
    "```\n",
    "\n",
    "Az `if` segítségével feltételesen hajtódnak végre utasítások - értékelődnek ki kifejezések."
   ]
  },
  {
   "cell_type": "code",
   "execution_count": null,
   "metadata": {},
   "outputs": [],
   "source": [
    "x, y = 1,2 \n",
    "if x > y\n",
    "    x\n",
    "else\n",
    "    y\n",
    "end"
   ]
  },
  {
   "cell_type": "markdown",
   "metadata": {},
   "source": [
    "#### ternáris operátor\n",
    "\n",
    "```julia\n",
    "a ? b : c\n",
    "```\n",
    "\n",
    "ami az:\n",
    "\n",
    "\n",
    "```julia\n",
    "if a\n",
    "    b\n",
    "else\n",
    "    c\n",
    "end\n",
    "```\n",
    "\n",
    "röveidebb változata."
   ]
  },
  {
   "cell_type": "code",
   "execution_count": null,
   "metadata": {},
   "outputs": [],
   "source": [
    "x,y=2,3\n",
    "(x > y) ? x : y"
   ]
  },
  {
   "cell_type": "markdown",
   "metadata": {},
   "source": [
    "## Függvények\n",
    "\n",
    "Témák:\n",
    "1. Megadásuk\n",
    "2. Duck-typing in Julia ( https://en.wikipedia.org/wiki/Duck_typing )\n",
    "3. Mutating vs. non-mutating functions (? argumentumát módosító?)\n",
    "4. Néhány magasabb rendű függvény\n",
    "\n",
    "### Függvények megadása\n",
    "\n",
    "#### Első lehetőség: `function` és `end` kulcsszavakkal"
   ]
  },
  {
   "cell_type": "code",
   "execution_count": null,
   "metadata": {},
   "outputs": [],
   "source": [
    "function f(x)\n",
    "    x^2\n",
    "end"
   ]
  },
  {
   "cell_type": "markdown",
   "metadata": {},
   "source": [
    "#### Második lehetőség: `=`-el"
   ]
  },
  {
   "cell_type": "code",
   "execution_count": null,
   "metadata": {},
   "outputs": [],
   "source": [
    "f2(x) = x^2"
   ]
  },
  {
   "cell_type": "markdown",
   "metadata": {},
   "source": [
    "#### Harmadik lehetőség: névtelen függvényként"
   ]
  },
  {
   "cell_type": "code",
   "execution_count": null,
   "metadata": {},
   "outputs": [],
   "source": [
    "f3 = x -> x^2"
   ]
  },
  {
   "cell_type": "code",
   "execution_count": 87,
   "metadata": {},
   "outputs": [
    {
     "data": {
      "text/plain": [
       "(1764, 1764, 1764)"
      ]
     },
     "execution_count": 87,
     "metadata": {},
     "output_type": "execute_result"
    }
   ],
   "source": [
    "f(42), f2(42), f3(42)"
   ]
  },
  {
   "cell_type": "markdown",
   "metadata": {},
   "source": [
    "### Duck-typing in Julia\n",
    "*\"If it quacks like a duck, it's a duck.\"* <br><br>\n",
    "Ha értelmezett az adott bemenetre a függvény által végzett számolás <br>\n",
    "akkor a függvény elvégzi azt típustól függetlenül. <br>\n",
    "Például a fenti `f` működik négyzetes <br> \n",
    "mátrixokra is, hiszen azok négyzetre emelhetők:"
   ]
  },
  {
   "cell_type": "code",
   "execution_count": null,
   "metadata": {},
   "outputs": [],
   "source": [
    "A = rand(3, 3)\n",
    "A"
   ]
  },
  {
   "cell_type": "code",
   "execution_count": null,
   "metadata": {},
   "outputs": [],
   "source": [
    "f(A)"
   ]
  },
  {
   "cell_type": "markdown",
   "metadata": {},
   "source": [
    "Altalában nem fog működni az `f` vektorokra hiszen azokra a négyzetre emelés nem definiált:\n"
   ]
  },
  {
   "cell_type": "code",
   "execution_count": null,
   "metadata": {},
   "outputs": [],
   "source": [
    "v = rand(3)"
   ]
  },
  {
   "cell_type": "code",
   "execution_count": null,
   "metadata": {},
   "outputs": [],
   "source": [
    "f(v)"
   ]
  },
  {
   "cell_type": "markdown",
   "metadata": {},
   "source": [
    "### Mutating vs. non-mutating functions\n",
    "\n",
    "Megállapodás szerint csak az olyan fv-ek módosítják valamely argumentumuk tartalmlát, <br>\n",
    "melyek neve `!`-el végződik. Például, nézzük meg a `sort` és a `sort!` közti különbséget:\n"
   ]
  },
  {
   "cell_type": "code",
   "execution_count": null,
   "metadata": {},
   "outputs": [],
   "source": [
    "v = [3, 5, 2]"
   ]
  },
  {
   "cell_type": "code",
   "execution_count": null,
   "metadata": {},
   "outputs": [],
   "source": [
    "display(sort(v))\n",
    "display(v)"
   ]
  },
  {
   "cell_type": "markdown",
   "metadata": {},
   "source": [
    "A `sort(v)` visszaadja a `v` rendezett változatát, miközben a `v` változatlan marad.<br>\n",
    "A `sort!(v)` hívásnál a `v` mögötti tartalom módosul, helyben rendezi a vektort:"
   ]
  },
  {
   "cell_type": "code",
   "execution_count": null,
   "metadata": {},
   "outputs": [],
   "source": [
    "sort!(v);\n",
    "display(v)"
   ]
  },
  {
   "cell_type": "markdown",
   "metadata": {},
   "source": [
    "### Magasabb rendű függvények\n",
    "\n",
    "#### map\n",
    "\n",
    "A `map` egy magasabb rendű függvény melynek egyik argumentuma egy függvény- <br>\n",
    "ezt a fv-t alkalmazza a `map` az átadott adatszerkezet (másik argumentum) minden elemére.\n",
    "Például:\n",
    "\n",
    "```julia\n",
    "map(f, [1, 2, 3])\n",
    "```\n",
    "egy tömböt eredményez melyben a mefelelő elemek az `f` eredeti elemeknél felvett értékei:\n",
    "\n",
    "```julia\n",
    "[f(1), f(2), f(3)]\n",
    "```"
   ]
  },
  {
   "cell_type": "code",
   "execution_count": 88,
   "metadata": {},
   "outputs": [
    {
     "data": {
      "text/plain": [
       "3-element Array{Int64,1}:\n",
       " 1\n",
       " 4\n",
       " 9"
      ]
     },
     "execution_count": 88,
     "metadata": {},
     "output_type": "execute_result"
    }
   ],
   "source": [
    "map(f, [1, 2, 3])"
   ]
  },
  {
   "cell_type": "markdown",
   "metadata": {},
   "source": [
    "Tehát az `[ 1,2,3]` vektor minden elemét négyzetre emeltük, nem magát a vektort.<br>\n",
    "Hasonlóan, de már névtelen függvénnyel az elemenkénti köbreemelés:\n"
   ]
  },
  {
   "cell_type": "code",
   "execution_count": 89,
   "metadata": {},
   "outputs": [
    {
     "data": {
      "text/plain": [
       "3-element Array{Int64,1}:\n",
       "  1\n",
       "  8\n",
       " 27"
      ]
     },
     "execution_count": 89,
     "metadata": {},
     "output_type": "execute_result"
    }
   ],
   "source": [
    "map(x -> x^3, [1, 2, 3])"
   ]
  },
  {
   "cell_type": "markdown",
   "metadata": {},
   "source": [
    "### broadcast\n",
    "\n",
    "A `broadcast` egy másik magasabb rendű fv. a `map` általánosítása.<br>\n",
    "Hívásának szerkezete megegyezik a `map`-éval:"
   ]
  },
  {
   "cell_type": "code",
   "execution_count": 90,
   "metadata": {},
   "outputs": [
    {
     "data": {
      "text/plain": [
       "3-element Array{Int64,1}:\n",
       " 1\n",
       " 4\n",
       " 9"
      ]
     },
     "execution_count": 90,
     "metadata": {},
     "output_type": "execute_result"
    }
   ],
   "source": [
    "broadcast(f, [1, 2, 3])"
   ]
  },
  {
   "cell_type": "markdown",
   "metadata": {},
   "source": [
    "A `broadcast` helyettesíthető a fv. neve után írt `.`-tal:\n",
    "\n",
    "```julia\n",
    "broadcast(f, [1, 2, 3])\n",
    "```\n",
    "ugyanaz, mint:\n",
    "```julia\n",
    "f.([1, 2, 3])\n",
    "```"
   ]
  },
  {
   "cell_type": "code",
   "execution_count": 91,
   "metadata": {},
   "outputs": [
    {
     "data": {
      "text/plain": [
       "3-element Array{Int64,1}:\n",
       " 1\n",
       " 4\n",
       " 9"
      ]
     },
     "execution_count": 91,
     "metadata": {},
     "output_type": "execute_result"
    }
   ],
   "source": [
    "f.([1, 2, 3])"
   ]
  },
  {
   "cell_type": "markdown",
   "metadata": {},
   "source": [
    "Mégegyszer jegyezzük meg, hogy ez mennyire más mint a \n",
    "```julia\n",
    "f([1, 2, 3])\n",
    "```\n",
    "hívás, hiszen az elemeket négyzetre emelhetjük, de a vektort nem.\n"
   ]
  },
  {
   "cell_type": "markdown",
   "metadata": {},
   "source": [
    "To drive home the point, let's look at the difference between\n",
    "\n",
    "```julia\n",
    "f(A)\n",
    "```\n",
    "and\n",
    "```julia\n",
    "f.(A)\n",
    "```\n",
    "for a matrix `A`:"
   ]
  },
  {
   "cell_type": "code",
   "execution_count": null,
   "metadata": {},
   "outputs": [],
   "source": [
    "A = [i + 3*j for j in 0:2, i in 1:3]"
   ]
  },
  {
   "cell_type": "code",
   "execution_count": null,
   "metadata": {},
   "outputs": [],
   "source": [
    "f(A)"
   ]
  },
  {
   "cell_type": "markdown",
   "metadata": {},
   "source": [
    "As before we see that for a matrix, `A`,\n",
    "```\n",
    "f(A) = A^2 = A * A\n",
    "``` \n",
    "\n",
    "On the other hand,"
   ]
  },
  {
   "cell_type": "code",
   "execution_count": null,
   "metadata": {},
   "outputs": [],
   "source": [
    "B = f.(A)"
   ]
  },
  {
   "cell_type": "markdown",
   "metadata": {},
   "source": [
    "contains the squares of all the entries of `A`.\n",
    "\n",
    "This dot syntax for broadcasting allows us to write relatively complex compound elementwise expressions in a way that looks natural/closer to mathematical notation. For example, we can write"
   ]
  },
  {
   "cell_type": "code",
   "execution_count": null,
   "metadata": {},
   "outputs": [],
   "source": [
    "C = A .+ 2 .* f.(A) ./ A"
   ]
  },
  {
   "cell_type": "markdown",
   "metadata": {},
   "source": [
    "instead of"
   ]
  },
  {
   "cell_type": "code",
   "execution_count": null,
   "metadata": {},
   "outputs": [],
   "source": [
    "broadcast(x -> x + 2 * f(x) / x, A)"
   ]
  },
  {
   "cell_type": "markdown",
   "metadata": {},
   "source": [
    "and this will still compile down to code that runs as efficiently as `C`!"
   ]
  }
 ],
 "metadata": {
  "@webio": {
   "lastCommId": "09d8a981b3ab47abbb3a44fb10bb48d8",
   "lastKernelId": "5f5c58a8-249f-4afd-9847-15225b172651"
  },
  "kernelspec": {
   "display_name": "Julia 1.0.0",
   "language": "julia",
   "name": "julia-1.0"
  },
  "language_info": {
   "file_extension": ".jl",
   "mimetype": "application/julia",
   "name": "julia",
   "version": "1.0.0"
  }
 },
 "nbformat": 4,
 "nbformat_minor": 2
}
