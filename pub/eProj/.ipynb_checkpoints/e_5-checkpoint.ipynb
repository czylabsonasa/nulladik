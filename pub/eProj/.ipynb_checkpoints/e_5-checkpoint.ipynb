{
 "cells": [
  {
   "cell_type": "markdown",
   "metadata": {},
   "source": [
    "### Feladat:\n",
    "https://projecteuler.net/problem=5 <br>\n",
    "Adott $\\{a_1,\\ldots ,a_n\\}$ esetén határozzuk meg a számok legkisebb közös többszörösét! <br>\n",
    "\n",
    "Az [euklidészi algoritmus](https://en.wikipedia.org/wiki/Euclidean_algorithm)-t használhatjuk:\n"
   ]
  },
  {
   "cell_type": "code",
   "execution_count": 9,
   "metadata": {},
   "outputs": [
    {
     "data": {
      "text/plain": [
       "232792560"
      ]
     },
     "execution_count": 9,
     "metadata": {},
     "output_type": "execute_result"
    }
   ],
   "source": [
    "function gcd(a,b)\n",
    "  while (c=a%b)>0\n",
    "    a,b = b,c\n",
    "  end\n",
    "  b\n",
    "end\n",
    "function lcm(v)\n",
    "  sol=v[1]\n",
    "  for n in v[2:end]\n",
    "    sol = div(sol*n, gcd(sol,n))\n",
    "  end\n",
    "  sol\n",
    "end\n",
    "\n",
    "lcm(1:20)\n"
   ]
  },
  {
   "cell_type": "code",
   "execution_count": 5,
   "metadata": {},
   "outputs": [
    {
     "data": {
      "text/plain": [
       "false"
      ]
     },
     "execution_count": 5,
     "metadata": {},
     "output_type": "execute_result"
    }
   ],
   "source": []
  },
  {
   "cell_type": "code",
   "execution_count": null,
   "metadata": {},
   "outputs": [],
   "source": []
  }
 ],
 "metadata": {
  "@webio": {
   "lastCommId": "849bbcd6e71a4c16899b8eeb9ea7887c",
   "lastKernelId": "9294a438-95b9-4279-9f59-923a8b3e789e"
  },
  "kernelspec": {
   "display_name": "Julia 1.0.2",
   "language": "julia",
   "name": "julia-1.0"
  },
  "language_info": {
   "file_extension": ".jl",
   "mimetype": "application/julia",
   "name": "julia",
   "version": "1.0.2"
  }
 },
 "nbformat": 4,
 "nbformat_minor": 2
}
