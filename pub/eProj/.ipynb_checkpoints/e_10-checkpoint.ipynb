{
 "cells": [
  {
   "cell_type": "markdown",
   "metadata": {},
   "source": [
    "https://projecteuler.net/problem=10\n",
    "\n",
    "A 7-es feladatból egyszerűen kihozható (lassú)."
   ]
  },
  {
   "cell_type": "code",
   "execution_count": 7,
   "metadata": {},
   "outputs": [
    {
     "name": "stdout",
     "output_type": "stream",
     "text": [
      "2000003\n"
     ]
    },
    {
     "data": {
      "text/plain": [
       "142913828922"
      ]
     },
     "execution_count": 7,
     "metadata": {},
     "output_type": "execute_result"
    }
   ],
   "source": [
    "pr = [ 3,5,7,11 ]\n",
    "#lim = 150001\n",
    "npr = 5\n",
    "n = 13\n",
    "while pr[npr-1] < 2000000\n",
    "  i, ip = 1, true\n",
    "  while pr[i]^2 <= n \n",
    "    if 0 == n%pr[i] \n",
    "      ip = false; break \n",
    "    end\n",
    "    i += 1\n",
    "  end\n",
    "  if true == ip \n",
    "    npr += 1\n",
    "    push!( pr, n ) \n",
    "  end\n",
    "  n += 2\n",
    "end\n",
    "println(pr[ npr-1 ])\n",
    "2+sum(pr[1:npr-2])"
   ]
  },
  {
   "cell_type": "code",
   "execution_count": null,
   "metadata": {},
   "outputs": [],
   "source": []
  },
  {
   "cell_type": "code",
   "execution_count": null,
   "metadata": {},
   "outputs": [],
   "source": []
  }
 ],
 "metadata": {
  "@webio": {
   "lastCommId": "e074203da5784f188d4a27f63fde9459",
   "lastKernelId": "0d0ac7b6-7b00-406b-be28-67c9c958c222"
  },
  "kernelspec": {
   "display_name": "Julia 1.0.2",
   "language": "julia",
   "name": "julia-1.0"
  },
  "language_info": {
   "file_extension": ".jl",
   "mimetype": "application/julia",
   "name": "julia",
   "version": "1.0.2"
  }
 },
 "nbformat": 4,
 "nbformat_minor": 2
}
