{
 "cells": [
  {
   "cell_type": "markdown",
   "metadata": {},
   "source": [
    "### Feladat:\n",
    "https://projecteuler.net/problem=7 <br>\n",
    "\n",
    "Lehetne szitálgatni is, de ez így tisztább..."
   ]
  },
  {
   "cell_type": "code",
   "execution_count": 16,
   "metadata": {},
   "outputs": [
    {
     "data": {
      "text/plain": [
       "104743"
      ]
     },
     "execution_count": 16,
     "metadata": {},
     "output_type": "execute_result"
    }
   ],
   "source": [
    "pr = [ 3,5,7,11 ]\n",
    "lim = 10001\n",
    "npr = 5\n",
    "n = 13\n",
    "while npr < lim\n",
    "  i, ip = 1, true\n",
    "  while pr[i]^2 <= n # miért nem kell i<=h ???\n",
    "    if 0 == n%pr[i] \n",
    "      ip = false; break \n",
    "    end\n",
    "    i += 1\n",
    "  end\n",
    "  if true == ip \n",
    "    npr += 1\n",
    "    push!( pr, n ) \n",
    "  end\n",
    "  n += 2\n",
    "end\n",
    "pr[ npr-1 ]"
   ]
  },
  {
   "cell_type": "code",
   "execution_count": null,
   "metadata": {},
   "outputs": [],
   "source": []
  }
 ],
 "metadata": {
  "@webio": {
   "lastCommId": "0b02b7b336c04d01b420f75a127296a5",
   "lastKernelId": "a2716d3f-2b48-4c1a-b7d1-7e2605ced069"
  },
  "kernelspec": {
   "display_name": "Julia 1.0.2",
   "language": "julia",
   "name": "julia-1.0"
  },
  "language_info": {
   "file_extension": ".jl",
   "mimetype": "application/julia",
   "name": "julia",
   "version": "1.0.2"
  }
 },
 "nbformat": 4,
 "nbformat_minor": 2
}
