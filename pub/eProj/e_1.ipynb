{
 "cells": [
  {
   "cell_type": "markdown",
   "metadata": {},
   "source": [
    "### Feladat:\n",
    "https://projecteuler.net/problem=1 <br>\n",
    "A probléma: adott egy $n>0$ egész, határozzuk meg azon számok <br>\n",
    "összegét az $[1,n]$ intervallumból melyek $p$-vel vagy $q$-val <br>\n",
    "oszthatóak. <br>\n",
    "Az első megoldás legyen olyan ami eszünkbe jut, amit ki <br>\n",
    "tudunk fejezni az adott nyelv eszközeivel:"
   ]
  },
  {
   "cell_type": "code",
   "execution_count": 2,
   "metadata": {},
   "outputs": [
    {
     "name": "stdout",
     "output_type": "stream",
     "text": [
      "[3, 5, 6, 9, 10, 12, 15, 18, 20]"
     ]
    },
    {
     "data": {
      "text/plain": [
       "98"
      ]
     },
     "execution_count": 2,
     "metadata": {},
     "output_type": "execute_result"
    }
   ],
   "source": [
    "n,p,q = 20,3,5;\n",
    "out = [ s for s in 1:n if 0==s%p || 0==s%q ];\n",
    "show( out )\n",
    "sum( out )"
   ]
  },
  {
   "cell_type": "markdown",
   "metadata": {},
   "source": [
    "Ha kipróbáljuk a fenti kódot pl $n=10^9$ esetén azt tapasztalhatjuk, <br>\n",
    "hogy igen lassú. Gyorsabban is számolhatunk: külön-külön kiszámoljuk a <br>\n",
    "jó számok összegét, majd levonjuk melyeket 2x számoltunk: <br>\n",
    "https://en.wikipedia.org/wiki/Inclusion-exclusion_principle <br>\n",
    "( logikai-szita formula, tartalmazás-kizárás-elv )\n",
    "\n",
    "### Feladat:\n",
    "Írjuk meg a logikai-szitás a megoldását a problémának! <br>\n",
    "Hasonlítsuk össze a két megoldás bonyolultságát!"
   ]
  },
  {
   "cell_type": "markdown",
   "metadata": {},
   "source": [
    "### Julia:<br>\n",
    "`comprehension`: https://vsaraph.wordpress.com/2015/01/20/list-comprehension-in-julia/"
   ]
  },
  {
   "cell_type": "code",
   "execution_count": null,
   "metadata": {},
   "outputs": [],
   "source": []
  }
 ],
 "metadata": {
  "@webio": {
   "lastCommId": "b0f481667a7841c2801afaee6276bd78",
   "lastKernelId": "36b1482d-82aa-47fe-bdd0-a1bf7302f78c"
  },
  "kernelspec": {
   "display_name": "Julia 1.0.2",
   "language": "julia",
   "name": "julia-1.0"
  },
  "language_info": {
   "file_extension": ".jl",
   "mimetype": "application/julia",
   "name": "julia",
   "version": "1.0.2"
  }
 },
 "nbformat": 4,
 "nbformat_minor": 2
}
