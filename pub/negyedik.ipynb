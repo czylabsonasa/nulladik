{
 "cells": [
  {
   "cell_type": "markdown",
   "metadata": {},
   "source": [
    "### Feladat (lottó): \n",
    "Adottak $1\\le k < m < n$ és $1\\le a_1<\\ldots <a_m \\le n$ egészek. Állítsd elő az adott $m$ számból képezhető \n",
    "összes $k$-elemű halmazt!\n",
    "\n",
    "#### Példa: \n",
    "$n=90, \\ k=5,\\ m=6$ és $1,11,22,33,44,55$ esetén a programnak a\n",
    "```\n",
    "1  11 22 33 44\n",
    "1  11 22 33 55\n",
    "1  11 22 44 55\n",
    "1  11 33 44 55\n",
    "1  22 33 44 55\n",
    "11 22 33 44 55\n",
    "```\n",
    "kimenetet kell produkálnia.\n",
    "\n",
    "#### Megoldás:\n",
    "A múlt órán tanult permutációgeneráló program megfelelő átalakításával. "
   ]
  },
  {
   "cell_type": "markdown",
   "metadata": {},
   "source": [
    "## A következő két feladaton gondolkodjunk:"
   ]
  },
  {
   "cell_type": "markdown",
   "metadata": {},
   "source": [
    "### Töltőállomás A\n",
    "Egy (elektromos) autó $0$-ból tele töltéssel indul és $T$-be akar elérni. <br>\n",
    "Egy töltéssel $d$ távot tud megtenni. Útja során $0<f_1< \\ldots <f_n$-nél vannak töltőhelyek.<br>\n",
    "Tankoláson **tele**töltést értünk!<br>\n",
    "**El tud jutni $T$-be?**<br>\n",
    "**Minimálisan hány töltéssel?**"
   ]
  },
  {
   "cell_type": "markdown",
   "metadata": {},
   "source": [
    "### Töltőállomás B\n",
    "Egy (elektromos) autó $0$-ból tele töltéssel indul és $T$-be akar elérni. <br>\n",
    "Egy töltéssel $d$ távot tud megtenni. <br>\n",
    "Útja során $0<f_1< \\ldots <f_n$-nél vannak töltőhelyek,<br> \n",
    "ahol rendre $c_1,\\ldots c_n$ költséggel töltheti tele autóját. (Tehát itt is tankoláson **tele**töltést értünk.)<br>\n",
    "**El tud jutni $T$-be?**<br>\n",
    "**Minimálisan mekkora költséggel?**"
   ]
  },
  {
   "cell_type": "markdown",
   "metadata": {},
   "source": [
    "### regisztrálj: https://app.codesignal.com/"
   ]
  },
  {
   "cell_type": "markdown",
   "metadata": {},
   "source": [
    "#### könnyű gyakorló feladatok, egy(pár)soros \"programmal\" oldhatóak:<br>\n",
    "[1](https://app.codesignal.com/arcade/code-arcade/intro-gates/wAGdN6FMPkx7WBq66)_ \n",
    "[2](https://app.codesignal.com/arcade/code-arcade/intro-gates/SZB5XypsMokGusDhX)_\n",
    "[3](https://app.codesignal.com/arcade/code-arcade/intro-gates/DdNKFA3XCX6XN7bNz)_\n",
    "[4](https://app.codesignal.com/arcade/code-arcade/intro-gates/bszFiQAog96G9CXKg)_\n",
    "[5](https://app.codesignal.com/arcade/code-arcade/intro-gates/HEsmEacHr2s9wahjr)_\n",
    "[6](https://app.codesignal.com/arcade/code-arcade/intro-gates/vExYvcGnFsEYSt8nQ)_\n",
    "[7](https://app.codesignal.com/arcade/code-arcade/intro-gates/aiKck9MwwAKyF8D4L)_\n",
    "[8](https://app.codesignal.com/arcade/code-arcade/intro-gates/mZAucMXhNMmT7JWta)_\n",
    "[9](https://app.codesignal.com/arcade/code-arcade/at-the-crossroads/m9wjpkCjgofg7gs8N)_\n",
    "[10](https://app.codesignal.com/arcade/code-arcade/at-the-crossroads/r9azLYp2BDZPyzaG2)_\n",
    "[11](https://app.codesignal.com/arcade/code-arcade/at-the-crossroads/sgDWKCFQHHi5D3Szj)_\n",
    "[12](https://app.codesignal.com/arcade/code-arcade/at-the-crossroads/aFF9HDm2Rsti9j5kc)_\n",
    "[13](https://app.codesignal.com/arcade/code-arcade/at-the-crossroads/QrCSNQWhnQoaK9KgK)_\n",
    "[14](https://app.codesignal.com/arcade/code-arcade/at-the-crossroads/7jaup9HprdJno2diw)_\n",
    "[15](https://app.codesignal.com/arcade/code-arcade/at-the-crossroads/jZ4ZSiGohzFTeg4yb)_\n",
    "[16](https://app.codesignal.com/arcade/code-arcade/at-the-crossroads/J7PQDxpWqhx7HrvBZ)_"
   ]
  },
  {
   "cell_type": "markdown",
   "metadata": {},
   "source": [
    "# Óra:\n",
    "\n",
    "1. Az óra első részében az a 3-4 pontos (könnyebb) feladatokat oldjuk meg [ebből](https://dms.rs/wp-content/uploads/2016/12/student2012magyar2.pdf).\n",
    "\n",
    "1. A múltkor vizsgált hátizsák feladat DP megoldása.\n",
    "1. Gráfok ábrázolása (éllista, szomszédsági lista/mátrix)\n",
    "1. Bejárás (BFS/DFS)\n",
    "1. Bellman-Ford\n"
   ]
  },
  {
   "cell_type": "code",
   "execution_count": null,
   "metadata": {},
   "outputs": [],
   "source": []
  }
 ],
 "metadata": {
  "@webio": {
   "lastCommId": "78bd56ed3a35446d9d6f79b532457969",
   "lastKernelId": "ada43589-cc65-4ae7-9fcd-ddae85747552"
  },
  "kernelspec": {
   "display_name": "Julia 1.0.2",
   "language": "julia",
   "name": "julia-1.0"
  },
  "language_info": {
   "file_extension": ".jl",
   "mimetype": "application/julia",
   "name": "julia",
   "version": "1.0.2"
  }
 },
 "nbformat": 4,
 "nbformat_minor": 2
}
