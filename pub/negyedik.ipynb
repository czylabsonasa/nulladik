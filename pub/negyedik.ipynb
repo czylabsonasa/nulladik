{
 "cells": [
  {
   "cell_type": "markdown",
   "metadata": {},
   "source": [
    "### Feladat (lottó): \n",
    "Adottak $1\\le k < m < n$ és $1\\le a_1<\\ldots <a_m \\le n$ egészek. Állítsd elő az adott $m$ számból képezhető \n",
    "összes $k$-elemű halmazt!\n",
    "\n",
    "#### Példa: \n",
    "$n=90, \\ k=5,\\ m=6$ és $1,11,22,33,44,55$ esetén a programnak a\n",
    "```\n",
    "1  11 22 33 44\n",
    "1  11 22 33 55\n",
    "1  11 22 44 55\n",
    "1  11 33 44 55\n",
    "1  22 33 44 55\n",
    "11 22 33 44 55\n",
    "```\n",
    "kimenetet kell produkálnia.\n",
    "\n",
    "#### Megoldás:\n",
    "A múlt órán tanult permutációgeneráló program megfelelő átalakításával. "
   ]
  },
  {
   "cell_type": "markdown",
   "metadata": {},
   "source": [
    "## A következő két feladaton gondolkodjunk:"
   ]
  },
  {
   "cell_type": "markdown",
   "metadata": {},
   "source": [
    "### Töltőállomás A\n",
    "Egy (elektromos) autó $0$-ból tele töltéssel indul és $T$-be akar elérni. <br>\n",
    "Egy töltéssel $d$ távot tud megtenni. Útja során $0<f_1< \\ldots <f_n$-nél vannak töltőhelyek.<br>\n",
    "Tankoláson **tele**töltést értünk!<br>\n",
    "**El tud jutni $T$-be?**<br>\n",
    "**Minimálisan hány töltéssel?**"
   ]
  },
  {
   "cell_type": "markdown",
   "metadata": {},
   "source": [
    "### Töltőállomás B\n",
    "Egy (elektromos) autó $0$-ból tele töltéssel indul és $T$-be akar elérni. <br>\n",
    "Egy töltéssel $d$ távot tud megtenni. <br>\n",
    "Útja során $0<f_1< \\ldots <f_n$-nél vannak töltőhelyek,<br> \n",
    "ahol rendre $c_1,\\ldots c_n$ költséggel töltheti tele autóját. (Tehát itt is tankoláson **tele**töltést értünk.)<br>\n",
    "**El tud jutni $T$-be?**<br>\n",
    "**Minimálisan mekkora költséggel?**"
   ]
  },
  {
   "cell_type": "markdown",
   "metadata": {},
   "source": [
    "### regisztrálj: https://app.codesignal.com/"
   ]
  },
  {
   "cell_type": "markdown",
   "metadata": {},
   "source": [
    "#### könnyű gyakorló feladatok, egy(pár)soros \"programmal\" oldhatóak:<br>\n",
    "https://app.codesignal.com/arcade/code-arcade/intro-gates/wAGdN6FMPkx7WBq66 <br>\n",
    "https://app.codesignal.com/arcade/code-arcade/intro-gates/SZB5XypsMokGusDhX <br>\n",
    "https://app.codesignal.com/arcade/code-arcade/intro-gates/DdNKFA3XCX6XN7bNz <br>\n",
    "https://app.codesignal.com/arcade/code-arcade/intro-gates/bszFiQAog96G9CXKg <br>\n",
    "https://app.codesignal.com/arcade/code-arcade/intro-gates/HEsmEacHr2s9wahjr <br>\n",
    "https://app.codesignal.com/arcade/code-arcade/intro-gates/vExYvcGnFsEYSt8nQ <br>\n",
    "https://app.codesignal.com/arcade/code-arcade/intro-gates/aiKck9MwwAKyF8D4L <br>\n",
    "https://app.codesignal.com/arcade/code-arcade/intro-gates/mZAucMXhNMmT7JWta <br>\n",
    "https://app.codesignal.com/arcade/code-arcade/at-the-crossroads/m9wjpkCjgofg7gs8N <br>\n",
    "https://app.codesignal.com/arcade/code-arcade/at-the-crossroads/r9azLYp2BDZPyzaG2 <br>\n",
    "https://app.codesignal.com/arcade/code-arcade/at-the-crossroads/sgDWKCFQHHi5D3Szj <br>\n",
    "https://app.codesignal.com/arcade/code-arcade/at-the-crossroads/aFF9HDm2Rsti9j5kc <br>\n",
    "https://app.codesignal.com/arcade/code-arcade/at-the-crossroads/QrCSNQWhnQoaK9KgK <br>\n",
    "https://app.codesignal.com/arcade/code-arcade/at-the-crossroads/7jaup9HprdJno2diw <br>\n",
    "https://app.codesignal.com/arcade/code-arcade/at-the-crossroads/jZ4ZSiGohzFTeg4yb <br>\n",
    "https://app.codesignal.com/arcade/code-arcade/at-the-crossroads/J7PQDxpWqhx7HrvBZ <br>"
   ]
  }
 ],
 "metadata": {
  "@webio": {
   "lastCommId": "98e105371b634f5ea860d006b66dd994",
   "lastKernelId": "4dfe1514-93cb-4d8b-aa3a-b85220ac5d75"
  },
  "kernelspec": {
   "display_name": "Julia 1.0.2",
   "language": "julia",
   "name": "julia-1.0"
  },
  "language_info": {
   "file_extension": ".jl",
   "mimetype": "application/julia",
   "name": "julia",
   "version": "1.0.2"
  }
 },
 "nbformat": 4,
 "nbformat_minor": 2
}
