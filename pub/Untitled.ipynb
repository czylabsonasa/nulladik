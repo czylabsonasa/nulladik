{
 "cells": [
  {
   "cell_type": "markdown",
   "metadata": {},
   "source": [
    "https://projecteuler.net/problem=1 <br>\n",
    "A probléma: adott egy $n>0$ egész, határozzuk meg azon számok <br>\n",
    "összegét az $[1,n]$ intervallumból melyek $p$-vel vagy $q$-val <br>\n",
    "oszthatóak. Az első megoldás legyen olyan ami eszünkbe jut, amit ki <br>\n",
    "tudunk fejezni az adott nyelv eszközeivel:"
   ]
  },
  {
   "cell_type": "code",
   "execution_count": 15,
   "metadata": {},
   "outputs": [
    {
     "name": "stdout",
     "output_type": "stream",
     "text": [
      "[3, 5, 6, 9, 10, 12, 15, 18, 20]"
     ]
    },
    {
     "data": {
      "text/plain": [
       "98"
      ]
     },
     "execution_count": 15,
     "metadata": {},
     "output_type": "execute_result"
    }
   ],
   "source": [
    "n,p,q = 20,3,5;\n",
    "out = [ s for s in 1:n if 0==s%p || 0==s%q ];\n",
    "show( out )\n",
    "sum( out )"
   ]
  },
  {
   "cell_type": "markdown",
   "metadata": {},
   "source": [
    "Ha kipróbáljuk a fenti kódot pl $n=10^9$ esetén azt tapasztalhatjuk, <br>\n",
    "hogy igen lassú. Gyorsabban is számolhatunk: külön-külön kiszámoljuk a \n",
    "jó számok összegét, majd levonjuk melyeket 2x számoltunk: <br>\n",
    "https://en.wikipedia.org/wiki/Inclusion%E2%80%93exclusion_principle\n",
    "( logikai-szita formula, tartalmazás-kizárás-elv )\n",
    "Írjuk meg ezt a változatát a megoldásnak!"
   ]
  }
 ],
 "metadata": {
  "@webio": {
   "lastCommId": "9219e43c196f4896838bbda203bc5b70",
   "lastKernelId": "78050dea-3367-41f9-a785-026ecada2a75"
  },
  "kernelspec": {
   "display_name": "Julia 1.0.2",
   "language": "julia",
   "name": "julia-1.0"
  },
  "language_info": {
   "file_extension": ".jl",
   "mimetype": "application/julia",
   "name": "julia",
   "version": "1.0.2"
  }
 },
 "nbformat": 4,
 "nbformat_minor": 2
}
