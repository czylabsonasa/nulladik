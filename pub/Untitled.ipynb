{
 "cells": [
  {
   "cell_type": "markdown",
   "metadata": {},
   "source": [
    "### regisztrálj: https://app.codesignal.com/"
   ]
  },
  {
   "cell_type": "markdown",
   "metadata": {},
   "source": [
    "könnyű gyakorló feladatok:<br>\n",
    "https://app.codesignal.com/arcade/code-arcade/intro-gates/wAGdN6FMPkx7WBq66 <br>\n",
    "https://app.codesignal.com/arcade/code-arcade/intro-gates/SZB5XypsMokGusDhX <br>\n",
    "https://app.codesignal.com/arcade/code-arcade/intro-gates/DdNKFA3XCX6XN7bNz <br>\n",
    "https://app.codesignal.com/arcade/code-arcade/intro-gates/bszFiQAog96G9CXKg <br>\n"
   ]
  },
  {
   "cell_type": "markdown",
   "metadata": {},
   "source": []
  }
 ],
 "metadata": {
  "@webio": {
   "lastCommId": "98e105371b634f5ea860d006b66dd994",
   "lastKernelId": "4dfe1514-93cb-4d8b-aa3a-b85220ac5d75"
  },
  "kernelspec": {
   "display_name": "Julia 1.0.2",
   "language": "julia",
   "name": "julia-1.0"
  },
  "language_info": {
   "file_extension": ".jl",
   "mimetype": "application/julia",
   "name": "julia",
   "version": "1.0.2"
  }
 },
 "nbformat": 4,
 "nbformat_minor": 2
}
