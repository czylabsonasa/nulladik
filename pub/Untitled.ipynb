{
 "cells": [
  {
   "cell_type": "markdown",
   "metadata": {},
   "source": [
    "https://projecteuler.net/problem=1 <br>\n",
    "A probléma: adott egy $n>0$ egész, határozzuk meg azon számok <br>\n",
    "összegét az $[1,n]$ intervallumból melyek $p$-vel vagy $q$-val <br>\n",
    "oszthatóak. Az első megoldás legyen olyan ami eszünkbe jut, amit ki <br>\n",
    "tudunk fejezni az adott nyelv eszközeivel:"
   ]
  },
  {
   "cell_type": "code",
   "execution_count": 15,
   "metadata": {},
   "outputs": [
    {
     "name": "stdout",
     "output_type": "stream",
     "text": [
      "[3, 5, 6, 9, 10, 12, 15, 18, 20]"
     ]
    },
    {
     "data": {
      "text/plain": [
       "98"
      ]
     },
     "execution_count": 15,
     "metadata": {},
     "output_type": "execute_result"
    }
   ],
   "source": [
    "n,p,q = 20,3,5;\n",
    "out = [ s for s in 1:n if 0==s%p || 0==s%q ];\n",
    "show( out )\n",
    "sum( out )"
   ]
  },
  {
   "cell_type": "markdown",
   "metadata": {},
   "source": [
    "Ha kipróbáljuk a fenti kódot pl $n=10^9$ esetén azt tapasztalhatjuk, <br>\n",
    "hogy igen lassú. Gyorsabban is számolhatunk: külön-külön kiszámoljuk a \n",
    "jó számok összegét, majd levonjuk melyeket 2x számoltunk: <br>\n",
    "https://en.wikipedia.org/wiki/Inclusion%E2%80%93exclusion_principle\n",
    "( logikai-szita formula, tartalmazás-kizárás-elv )\n",
    "Írjuk meg ezt a változatát a megoldásnak!"
   ]
  }
 ],
 "metadata": {
  "@webio": {
   "lastCommId": "01f21158ae634cad8bc98667a3e40e5b",
   "lastKernelId": "81f77833-e593-4de1-ad25-9141947426dc"
  },
  "kernelspec": {
   "display_name": "Julia 1.0.2",
   "language": "julia",
   "name": "julia-1.0"
  },
  "language_info": {
   "file_extension": ".jl",
   "mimetype": "application/julia",
   "name": "julia",
   "version": "1.0.2"
  }
 },
 "nbformat": 4,
 "nbformat_minor": 2
}
