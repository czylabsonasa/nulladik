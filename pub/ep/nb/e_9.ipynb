{
 "cells": [
  {
   "cell_type": "markdown",
   "metadata": {},
   "source": [
    "https://projecteuler.net/problem=9\n",
    "\n",
    "A brute force megteszi, de azért használjuk ki, hogy $a<b<c$!"
   ]
  },
  {
   "cell_type": "code",
   "execution_count": 7,
   "metadata": {},
   "outputs": [
    {
     "name": "stdout",
     "output_type": "stream",
     "text": [
      "200 375 425 31875000\n"
     ]
    }
   ],
   "source": [
    "n=1000\n",
    "for a in 2:div(n,3), b in (a+1):div(n-a,2)\n",
    "  c=n-(a+b);\n",
    "  if a^2+b^2 == c^2\n",
    "    println(a,\" \",b,\" \",c,\" \",a*b*c)\n",
    "  end\n",
    "end"
   ]
  },
  {
   "cell_type": "code",
   "execution_count": null,
   "metadata": {},
   "outputs": [],
   "source": []
  }
 ],
 "metadata": {
  "@webio": {
   "lastCommId": "242360c1eee54cb28375a787388b33e0",
   "lastKernelId": "d8423a6b-5310-489b-8dfc-bdfd4c0ee89f"
  },
  "kernelspec": {
   "display_name": "Julia 1.0.2",
   "language": "julia",
   "name": "julia-1.0"
  },
  "language_info": {
   "file_extension": ".jl",
   "mimetype": "application/julia",
   "name": "julia",
   "version": "1.0.2"
  }
 },
 "nbformat": 4,
 "nbformat_minor": 2
}
