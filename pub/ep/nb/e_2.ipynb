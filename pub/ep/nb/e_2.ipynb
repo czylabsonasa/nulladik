{
 "cells": [
  {
   "cell_type": "markdown",
   "metadata": {},
   "source": [
    "### Feladat:\n",
    "https://projecteuler.net/problem=2 <br>\n",
    "Összegezzük a Fiboonacci-sorozat páros tagjait egy határig!<br>\n",
    "\n",
    "\"Nyers erő\" megoldás:"
   ]
  },
  {
   "cell_type": "code",
   "execution_count": 15,
   "metadata": {},
   "outputs": [
    {
     "name": "stdout",
     "output_type": "stream",
     "text": [
      "4613732\n",
      "elepsed time: 0.015502456 sec\n"
     ]
    }
   ],
   "source": [
    "start=time_ns()\n",
    "f0, f1 = 1, 1\n",
    "s, határ = 0, 4000000\n",
    "while f1 <= határ\n",
    "  s += ( 0 == f1 % 2 ) ? f1 : 0\n",
    "  #println(s)\n",
    "  f0, f1 = f1, f0 + f1\n",
    "end\n",
    "println(s)\n",
    "println(\"elepsed time: \", (time_ns()-start)/1e9, \" sec\")\n"
   ]
  },
  {
   "cell_type": "markdown",
   "metadata": {},
   "source": [
    "Ha ránézünk az első néhány tagra:<br>\n",
    "1,1,2,3,5,8,13,21,... <br>\n",
    "1,1,0,1,1,0, 1, 1,... <br>\n",
    "láthatjuk hogy a páros tagok pontosan a $3k+2$ indexű tagok<br>\n",
    "Ezt figyelembe véve a ciklusunkból a párosság tesztelése elhagyható.<br>\n",
    "\n",
    "\n",
    "### Feladat:\n",
    "Írjuk meg a megoldás `%` operátor nélküli változatát!\n"
   ]
  },
  {
   "cell_type": "markdown",
   "metadata": {},
   "source": [
    "### Julia: <br>\n",
    "`time_ns`"
   ]
  },
  {
   "cell_type": "code",
   "execution_count": null,
   "metadata": {},
   "outputs": [],
   "source": []
  }
 ],
 "metadata": {
  "@webio": {
   "lastCommId": "fc7bce22d8524af9b855c373a187133e",
   "lastKernelId": "a979bc65-e58b-4d02-ad6e-7b035cf33c64"
  },
  "kernelspec": {
   "display_name": "Julia 1.0.2",
   "language": "julia",
   "name": "julia-1.0"
  },
  "language_info": {
   "file_extension": ".jl",
   "mimetype": "application/julia",
   "name": "julia",
   "version": "1.0.2"
  }
 },
 "nbformat": 4,
 "nbformat_minor": 2
}
