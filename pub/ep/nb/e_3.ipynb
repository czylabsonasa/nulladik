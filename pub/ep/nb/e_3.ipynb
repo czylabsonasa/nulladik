{
 "cells": [
  {
   "cell_type": "markdown",
   "metadata": {},
   "source": [
    "### Feladat:\n",
    "https://projecteuler.net/problem=3 <br>\n",
    "Egy adott szám legnagyobb prímfaktorát kell meghatározni. <br>\n",
    "A kis méretek miatt az összes prímfaktort berakjuk egy listába <br>\n",
    "($szám<2^{n}\\implies$ legfeljebb n prímfaktor)"
   ]
  },
  {
   "cell_type": "code",
   "execution_count": 6,
   "metadata": {},
   "outputs": [
    {
     "name": "stdout",
     "output_type": "stream",
     "text": [
      "Any[2, 3, 5, 7, 11, 13]\n"
     ]
    },
    {
     "data": {
      "text/plain": [
       "30030"
      ]
     },
     "execution_count": 6,
     "metadata": {},
     "output_type": "execute_result"
    }
   ],
   "source": [
    "# n = 600851475143\n",
    "n = 2 * 3 * 5 * 7 * 11 * 13\n",
    "prímek=[]\n",
    "p=2\n",
    "while n>1 && p*p<=n\n",
    "  while 0==n%p\n",
    "    push!(prímek,p)\n",
    "    n=div(n,p)\n",
    "  end\n",
    "  p += 1\n",
    "end\n",
    "if n > 1\n",
    "  push!(prímek,n)\n",
    "end\n",
    "println(prímek)\n",
    "prod(prímek)"
   ]
  },
  {
   "cell_type": "markdown",
   "metadata": {},
   "source": [
    "### Feladat: \n",
    "Írjuk megy a megoldás függvényes változatát, mely $a<b$ paramétereket <br>\n",
    "vár, és visszaadja azokat a számokat az $[a,b]$ intervallumból, melyeknek a <br>\n",
    "legnagyobb a legnagyobb prímfaktora!\n"
   ]
  },
  {
   "cell_type": "markdown",
   "metadata": {},
   "source": [
    "### Julia:\n",
    "`push!` <br>\n",
    "`prod` "
   ]
  },
  {
   "cell_type": "code",
   "execution_count": null,
   "metadata": {},
   "outputs": [],
   "source": []
  }
 ],
 "metadata": {
  "@webio": {
   "lastCommId": "90c6750e0c4b4e1380ebe2c8174bde7c",
   "lastKernelId": "169b4ee2-14b7-4a25-b0f0-c3e9fc9a8a04"
  },
  "kernelspec": {
   "display_name": "Julia 1.0.2",
   "language": "julia",
   "name": "julia-1.0"
  },
  "language_info": {
   "file_extension": ".jl",
   "mimetype": "application/julia",
   "name": "julia",
   "version": "1.0.2"
  }
 },
 "nbformat": 4,
 "nbformat_minor": 2
}
