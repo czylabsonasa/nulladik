{
 "cells": [
  {
   "cell_type": "markdown",
   "metadata": {},
   "source": [
    "https://projecteuler.net/problem=4\n",
    "\n",
    "Ciklus-írás gyakorlása :-)"
   ]
  },
  {
   "cell_type": "code",
   "execution_count": 7,
   "metadata": {},
   "outputs": [
    {
     "data": {
      "text/plain": [
       "(906609, 913, 993)"
      ]
     },
     "execution_count": 7,
     "metadata": {},
     "output_type": "execute_result"
    }
   ],
   "source": [
    "mx, n1, n2 = -1,-1,-1\n",
    "for i in 100:999, j in i:999 # nested loop!\n",
    "  #println(i,\" \",j)\n",
    "  k, sk = i*j, string(k)\n",
    "  if sk == reverse(sk) && k > mx\n",
    "    mx,n1,n2=k,i,j\n",
    "  end\n",
    "end\n",
    "mx,n1,n2"
   ]
  },
  {
   "cell_type": "markdown",
   "metadata": {},
   "source": [
    "### Julia: \n",
    "nested loops (többek között): https://en.wikibooks.org/wiki/Introducing_Julia/Controlling_the_flow"
   ]
  },
  {
   "cell_type": "code",
   "execution_count": null,
   "metadata": {},
   "outputs": [],
   "source": []
  }
 ],
 "metadata": {
  "@webio": {
   "lastCommId": "7c55de3d2c7d4edf8e84f9396b61a942",
   "lastKernelId": "c6718c48-c80e-44c2-a67f-754ee66547b4"
  },
  "kernelspec": {
   "display_name": "Julia 1.0.2",
   "language": "julia",
   "name": "julia-1.0"
  },
  "language_info": {
   "file_extension": ".jl",
   "mimetype": "application/julia",
   "name": "julia",
   "version": "1.0.2"
  }
 },
 "nbformat": 4,
 "nbformat_minor": 2
}
