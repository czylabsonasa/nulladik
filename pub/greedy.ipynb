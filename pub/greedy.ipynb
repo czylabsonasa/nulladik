{
 "cells": [
  {
   "cell_type": "markdown",
   "metadata": {},
   "source": [
    "### Bevezető feladat:\n",
    "Adott $a_1, \\ldots a_n$ és $b_1, \\ldots b_n$ pozitív valós számok esetén milyen $\\varphi$ sorrendre lesz a\n",
    "$$\n",
    "\\sum_k a_k b_{\\varphi(k)} \n",
    "$$\n",
    "összeg minimális (maximális)?\n",
    "\n",
    "### Példa\n",
    "\n",
    "Ha kicsi az $n$, kipróbálhatjuk az összes sorrendet:\n",
    "$a:(1,4,7)$ és $b:(2,3,8)$:"
   ]
  },
  {
   "cell_type": "code",
   "execution_count": 11,
   "metadata": {},
   "outputs": [
    {
     "name": "stdout",
     "output_type": "stream",
     "text": [
      "1%d + 4*%d + 7*%d = %d\n",
      "\n",
      "1%d + 4*%d + 7*%d = %d\n",
      "\n",
      "1%d + 4*%d + 7*%d = %d\n",
      "\n",
      "1%d + 4*%d + 7*%d = %d\n",
      "\n",
      "1%d + 4*%d + 7*%d = %d\n",
      "\n",
      "1%d + 4*%d + 7*%d = %d\n",
      "\n"
     ]
    }
   ],
   "source": [
    "using Printf\n",
    "a=(1,4,7)\n",
    "b=(2,3,8)\n",
    "fs=\"$(a[1])%d + $(a[2])*%d + $(a[3])*%d = %d\\n\"\n",
    "for i in 1:3, j in 1:3, k in 1:3\n",
    "    if i==j || i==k || j==k continue end\n",
    "println(fs)\n",
    "    #@printf fs, b[1],b[2],b[3], sum(a.*b) \n",
    "end\n",
    "    "
   ]
  },
  {
   "cell_type": "code",
   "execution_count": null,
   "metadata": {},
   "outputs": [],
   "source": []
  }
 ],
 "metadata": {
  "@webio": {
   "lastCommId": "95547b8777ef4f908551e198cf85e793",
   "lastKernelId": "c8149233-c703-4ae2-9c39-4e5223b34a9f"
  },
  "kernelspec": {
   "display_name": "Julia 1.0.3",
   "language": "julia",
   "name": "julia-1.0"
  },
  "language_info": {
   "file_extension": ".jl",
   "mimetype": "application/julia",
   "name": "julia",
   "version": "1.0.2"
  }
 },
 "nbformat": 4,
 "nbformat_minor": 2
}
