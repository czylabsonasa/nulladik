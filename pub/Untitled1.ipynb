{
 "cells": [
  {
   "cell_type": "markdown",
   "metadata": {},
   "source": [
    "https://projecteuler.net/problem=2 \n",
    "Összegezzük a Fiboonacci-sorozat páros tagjait egy határig ($n$)!<br>\n",
    "\n",
    "\"Nyers erő\" megoldás:"
   ]
  },
  {
   "cell_type": "code",
   "execution_count": null,
   "metadata": {},
   "outputs": [],
   "source": [
    "f0, f1 = 1, 1\n",
    "s, határ = 0, 4000000\n",
    "while f1 <= határ\n",
    "  s += ( 0 == f1 % 2 ) ? f1 : 0\n",
    "  f0, f1 = f1, f0 + f1\n",
    "end\n",
    "s"
   ]
  },
  {
   "cell_type": "code",
   "execution_count": null,
   "metadata": {},
   "outputs": [],
   "source": []
  }
 ],
 "metadata": {
  "@webio": {
   "lastCommId": "5baddd69971148ce84d1d137e4752599",
   "lastKernelId": "0d3947f5-04b9-44a1-874f-8c02abead5bd"
  },
  "kernelspec": {
   "display_name": "Julia 1.0.2",
   "language": "julia",
   "name": "julia-1.0"
  },
  "language_info": {
   "file_extension": ".jl",
   "mimetype": "application/julia",
   "name": "julia",
   "version": "1.0.2"
  }
 },
 "nbformat": 4,
 "nbformat_minor": 2
}
