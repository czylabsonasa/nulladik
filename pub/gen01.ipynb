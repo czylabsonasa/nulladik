{
 "cells": [
  {
   "cell_type": "markdown",
   "metadata": {},
   "source": [
    "### Teljes bináris fa bejárása\n",
    "\n",
    " **Feladat**: Generáljuk le (írjuk ki az ```stdout```-ra) az összes adott $n$ hosszúságú $0-1$ sorozatot!<br>\n",
    " \n",
    " **Megoldás**: $n$ szint van, minden szinten mindent ($0,1$) végigpróbálunk.<br>\n",
    " \n",
    " **Implementáció**:"
   ]
  },
  {
   "cell_type": "code",
   "execution_count": 70,
   "metadata": {},
   "outputs": [
    {
     "name": "stdout",
     "output_type": "stream",
     "text": [
      "  0.017992 seconds (20.73 k allocations: 1.056 MiB)\n"
     ]
    }
   ],
   "source": [
    "function gen01( hossz; ír=true )\n",
    "  akt = fill( '_',hossz ) # -> fill\n",
    "  function bejár( szint )\n",
    "    if szint > hossz\n",
    "      ( true == ír ) ? println( join(akt) ) : nothing\n",
    "      a=szint^2\n",
    "      return\n",
    "    end\n",
    "    akt[ szint ] = '0'\n",
    "    bejár( 1+szint )\n",
    "    akt[ szint ] = '1'\n",
    "    bejár( 1+szint )\n",
    "  end\n",
    "end\n",
    "\n",
    "@time gen01(3,ír=false)(1)\n"
   ]
  },
  {
   "cell_type": "markdown",
   "metadata": {},
   "source": [
    "A levelekkel együtt $2\\cdot(2^{n}-1)$ csúcsot járunk be. <br>\n",
    "\n",
    "Mérjük meg különböző $n$-ekre a futási időt! Mivel tudjuk, hogy exponenciális \n",
    "a futási idő, ezért a mérések logaritmusát ábrázoljuk.\n",
    "\n",
    "Ha egy k szintes fa egy csúcsát 1sec alatt alatt járná be \n",
    "a program, akkor kb. $2^k$sec alatt végezne, ezt az"
   ]
  },
  {
   "cell_type": "code",
   "execution_count": 71,
   "metadata": {},
   "outputs": [
    {
     "name": "stdout",
     "output_type": "stream",
     "text": [
      "30467582 csúcsot vizsgál másodpercenként. A használt cpu:\n",
      "cpu MHz\t\t: 3530.086\n"
     ]
    }
   ],
   "source": [
    "N=20\n",
    "H=10\n",
    "idők=zeros(N)\n",
    "for n=1:N\n",
    "  t0=time_ns()\n",
    "  for h=1:H gen01(n,ír=false)(1) end\n",
    "  idők[n]=(time_ns()-t0)/(H*1e9)\n",
    "end\n",
    "using Plots, LaTeXStrings # matematikai jelölések használata\n",
    "plot( 1:N, log.(idők), label=\"actual running time\", ylabel=\"sec\", xlabel=\"problem size\" )\n",
    "plot!( 1:N, log(2)*(1:N), label=L\"2^n\" )\n",
    "println( Int(floor(2^N / idők[N])),\" csúcsot vizsgál másodpercenként. A használt cpu:\")\n",
    "run( pipeline(  `cat /proc/cpuinfo`, `grep -m 1 -i mhz` ) );\n"
   ]
  },
  {
   "cell_type": "markdown",
   "metadata": {},
   "source": [
    "Ezt a technikát használhatjuk a [hátizsák-feladat](https://en.wikipedia.org/wiki/Knapsack_problem) megoldására.<br>\n",
    "\n",
    "### Probléma:<br> \n",
    "A következőkben minden adat pozitív egész szám.<br>\n",
    "Adott $n$ tárgy, $w_1,\\cdots,w_n$ súlyokkal és $v_1,\\cdots,v_n$ értékekkel.<br> \n",
    "Van egy $K$ kapacitású hátizsák, amibe minnél nagyobb *összértékű* részhalmazát akarjuk bepakolni a tárgyaknak. \n",
    "\n",
    "### Megoldás:<br> \n",
    "Minden olyan részhalmazt megvizsgálunk, ami belefér a zsákba. Brute force.\n",
    "\n",
    "### Implementáció:<br> \n",
    "A gen01-et átalakítása."
   ]
  },
  {
   "cell_type": "code",
   "execution_count": 72,
   "metadata": {},
   "outputs": [
    {
     "data": {
      "text/plain": [
       "ks (generic function with 1 method)"
      ]
     },
     "execution_count": 72,
     "metadata": {},
     "output_type": "execute_result"
    }
   ],
   "source": [
    "function ks(v, w, K) # hátizsák:knapsack\n",
    "  n=length(w)\n",
    "  optV=0\n",
    "  function bejár( szint, aktV, aktW )\n",
    "    if szint>n\n",
    "      optV=max(optV, aktV)\n",
    "      return\n",
    "    else\n",
    "      if( aktW+w[szint] <= K )\n",
    "        bejár( 1+szint, aktV+v[szint], aktW+w[szint] )\n",
    "      end\n",
    "      bejár( 1+szint, aktV, aktW )\n",
    "    end\n",
    "  end\n",
    "  bejár(1,0,0)\n",
    "  optV\n",
    "end\n"
   ]
  },
  {
   "cell_type": "markdown",
   "metadata": {},
   "source": [
    "Teszteljük le néhány esetre:"
   ]
  },
  {
   "cell_type": "code",
   "execution_count": 73,
   "metadata": {},
   "outputs": [
    {
     "name": "stdout",
     "output_type": "stream",
     "text": [
      "29\n",
      "40\n",
      "280\n"
     ]
    }
   ],
   "source": [
    "# http://www.mafy.lut.fi/study/DiscreteOpt/DYNKNAP.pdf, opt=29\n",
    "v1 = [ 15,10,9,5 ]\n",
    "w1 = [ 1,5,3,4 ]\n",
    "K1 = 8\n",
    "println( ks( v1, w1, K1 ) )\n",
    "# https://www.cs.colostate.edu/~cs475/f14/Lectures/Lec4Knapsack.pdf, opt=40\n",
    "v2 = [ 1,6,18,22,28 ]\n",
    "w2 = [ 1,2,5,6,7 ]\n",
    "K2 = 11\n",
    "println( ks( v2, w2, K2 ) )\n",
    "# http://www.or.deis.unibo.it/kp/Chapter2.pdf , opt=280\n",
    "v3 = [ 15,100,90,60,40,15,10,1 ]\n",
    "w3 = [ 2,20,20,30,40,30,60,10 ]\n",
    "K3 = 102\n",
    "println( ks( v3, w3, K3 ) )\n"
   ]
  },
  {
   "cell_type": "markdown",
   "metadata": {},
   "source": [
    "Csináljunk egy nagyobb inputot:"
   ]
  },
  {
   "cell_type": "code",
   "execution_count": 103,
   "metadata": {},
   "outputs": [
    {
     "name": "stdout",
     "output_type": "stream",
     "text": [
      "n=26\n",
      "493\n",
      "  2.167653 seconds (193 allocations: 10.688 KiB)\n"
     ]
    }
   ],
   "source": [
    "v4 = vcat( v1,v2,v3,v1,v2 )\n",
    "w4 = vcat( w1,w2,w3,w1,w2 )\n",
    "K = K1+K2+K3+K1+K2\n",
    "println( \"n=\", length(v) )\n",
    "@time println( ks( v4, w4, K ) )\n"
   ]
  },
  {
   "cell_type": "markdown",
   "metadata": {},
   "source": [
    "Hogyan tudnánk ezt a módszert gyorsítani? <br>\n",
    "A következő egyszerű technika megtalálható a Pascal nyelv atyja által írt [könyvben](https://moly.hu/konyvek/niklaus-wirth-algoritmusok-adatstrukturak-programok)"
   ]
  },
  {
   "cell_type": "code",
   "execution_count": 91,
   "metadata": {},
   "outputs": [
    {
     "data": {
      "text/plain": [
       "ksV (generic function with 1 method)"
      ]
     },
     "execution_count": 91,
     "metadata": {},
     "output_type": "execute_result"
    }
   ],
   "source": [
    "function ksV( v, w, K )\n",
    "  n=length(w)\n",
    "  optV=0\n",
    "  function bejár( szint, aktV, aktW, sumV )\n",
    "    if szint > n\n",
    "      optV=max( optV, aktV )\n",
    "      return\n",
    "    else\n",
    "      if aktW+w[szint] <= K \n",
    "        bejár( 1+szint, aktV+v[szint], aktW+w[szint], sumV )\n",
    "      end\n",
    "      sumV -= v[szint];\n",
    "      if sumV > optV\n",
    "        bejár( 1+szint, aktV, aktW, sumV )\n",
    "      end\n",
    "    end\n",
    "  end\n",
    "  bejár(1,0,0,sum(v))\n",
    "  optV\n",
    "end  \n"
   ]
  },
  {
   "cell_type": "code",
   "execution_count": 109,
   "metadata": {},
   "outputs": [
    {
     "name": "stdout",
     "output_type": "stream",
     "text": [
      "n=34\n",
      "620\n",
      "  3.460681 seconds (112.58 M allocations: 1.678 GiB, 9.11% gc time)\n"
     ]
    }
   ],
   "source": [
    "v5=vcat(v4,v3)\n",
    "w5=vcat(w4,w3)\n",
    "println( \"n=\", length(v5) )\n",
    "@time println( ksV( v5, w5, K ) )"
   ]
  },
  {
   "cell_type": "markdown",
   "metadata": {},
   "source": [
    "Egy másik egyszerű dolgot is kiaknázhatunk,<br>\n",
    "rendezzük a tárgyakat relatív értékesség szerint $\\frac{forint}{kiló}$ :\n",
    "$$\n",
    "\\frac{v_i}{w_i} \\ge \\ldots \\ge \\frac{v_n}{w_n}\n",
    "$$\n",
    "Először egyesítjuk az adatokat: vektorokból álló vektort hozunk létre.<br>\n",
    "Majd megfelelően módosítjuk a ```ksV```t.\n"
   ]
  },
  {
   "cell_type": "code",
   "execution_count": 87,
   "metadata": {},
   "outputs": [
    {
     "data": {
      "text/plain": [
       "34-element Array{Tuple{Int64,Int64},1}:\n",
       " (15, 1)  \n",
       " (15, 1)  \n",
       " (15, 2)  \n",
       " (15, 2)  \n",
       " (100, 20)\n",
       " (100, 20)\n",
       " (90, 20) \n",
       " (90, 20) \n",
       " (28, 7)  \n",
       " (28, 7)  \n",
       " (22, 6)  \n",
       " (22, 6)  \n",
       " (18, 5)  \n",
       " ⋮        \n",
       " (5, 4)   \n",
       " (5, 4)   \n",
       " (1, 1)   \n",
       " (40, 40) \n",
       " (1, 1)   \n",
       " (40, 40) \n",
       " (15, 30) \n",
       " (15, 30) \n",
       " (10, 60) \n",
       " (10, 60) \n",
       " (1, 10)  \n",
       " (1, 10)  "
      ]
     },
     "execution_count": 87,
     "metadata": {},
     "output_type": "execute_result"
    }
   ],
   "source": [
    "data = [ (v[i], w[i]) for i in 1:length(v) ] \n",
    "rend(x)=x[1]/x[2]\n",
    "sort!( data, by=rend, rev=true )"
   ]
  },
  {
   "cell_type": "code",
   "execution_count": 97,
   "metadata": {},
   "outputs": [
    {
     "data": {
      "text/plain": [
       "ksV2 (generic function with 1 method)"
      ]
     },
     "execution_count": 97,
     "metadata": {},
     "output_type": "execute_result"
    }
   ],
   "source": [
    "function ksV2( v, w, K )\n",
    "  data = [ (v[i], w[i]) for i in 1:length(v) ] \n",
    "  sort!( data, by=(x)->x[1]/x[2], rev=true )\n",
    "  n=length(data)\n",
    "  for i in 1:n v[i],w[i] = data[i] end\n",
    "    \n",
    "  optV=0\n",
    "  function bejár( szint, aktW, sumV )\n",
    "    if szint > n\n",
    "      optV=max( optV, sumV )\n",
    "      return\n",
    "    else\n",
    "      if aktW+w[szint] <= K \n",
    "        bejár( 1+szint, aktW+w[szint], sumV )\n",
    "      end\n",
    "      sumV -= v[szint]\n",
    "      if sumV > optV\n",
    "        bejár( 1+szint, aktW, sumV )\n",
    "      end\n",
    "    end\n",
    "  end\n",
    "  bejár( 1, 0, sum(v) )\n",
    "  optV\n",
    "end  \n"
   ]
  },
  {
   "cell_type": "code",
   "execution_count": 113,
   "metadata": {},
   "outputs": [
    {
     "name": "stdout",
     "output_type": "stream",
     "text": [
      "n=34\n",
      "620\n",
      "  0.367177 seconds (12.71 M allocations: 193.882 MiB, 11.50% gc time)\n"
     ]
    }
   ],
   "source": [
    "println( \"n=\", length(v5) )\n",
    "@time println( ksV2( v5, w5, K ) )"
   ]
  },
  {
   "cell_type": "markdown",
   "metadata": {},
   "source": [
    "A rendezettségnek fontos következménye:<br>\n",
    "A **folytonos** hátizsák feladatra a mohó választás optimális megoldást ad, <br>\n",
    "ha a tárgyak relatív értékesség szerint csökkenően rendezettek. Ezt [Dantzig](https://hu.wikipedia.org/wiki/George_Dantzig) fogalmazta meg először.(?) <br> \n",
    "Segítségével a még hátralevő targyakra megoldjuk a relaxált feladatot és az így kapott korlátot \n",
    "használjuk vágásra.<br>\n",
    "Kódban:"
   ]
  },
  {
   "cell_type": "code",
   "execution_count": 110,
   "metadata": {},
   "outputs": [
    {
     "data": {
      "text/plain": [
       "ksV3 (generic function with 1 method)"
      ]
     },
     "execution_count": 110,
     "metadata": {},
     "output_type": "execute_result"
    }
   ],
   "source": [
    "function ksV3( v, w, K )\n",
    "  data = [ (v[i], w[i]) for i in 1:length(v) ] \n",
    "  sort!( data, by=(x)->x[1]/x[2], rev=true )\n",
    "  n=length(data)\n",
    "  for i in 1:n v[i],w[i] = data[i] end\n",
    "    \n",
    "  function d(i,tK)\n",
    "    o=0.0\n",
    "    while i<=n && tK>0\n",
    "      t = min( tK, w[i] )\n",
    "      tK -= t\n",
    "      o += t*v[i]/(1.0*w[i])\n",
    "      i += 1\n",
    "    end\n",
    "    Int(floor(o))\n",
    "  end\n",
    "  optV=0\n",
    "  function bejár( szint, aktW, aktV )\n",
    "    if szint > n\n",
    "      optV=max( optV, aktV )\n",
    "      return\n",
    "    else\n",
    "      if aktW+w[szint] <= K \n",
    "        bejár( 1+szint, aktW+w[szint], aktV+v[szint] )\n",
    "      end\n",
    "      if aktV + d( 1+szint, K-aktW ) > optV\n",
    "        bejár( 1+szint, aktW, aktV )\n",
    "      end\n",
    "    end\n",
    "  end\n",
    "  bejár( 1, 0, 0 )\n",
    "  optV\n",
    "end  \n"
   ]
  },
  {
   "cell_type": "code",
   "execution_count": 112,
   "metadata": {},
   "outputs": [
    {
     "name": "stdout",
     "output_type": "stream",
     "text": [
      "n=34\n",
      "620\n",
      "  0.000138 seconds (183 allocations: 4.266 KiB)\n"
     ]
    }
   ],
   "source": [
    "println( \"n=\", length(v5) )\n",
    "@time println( ksV3( v5, w5, K ) )"
   ]
  },
  {
   "cell_type": "code",
   "execution_count": 127,
   "metadata": {},
   "outputs": [
    {
     "name": "stdout",
     "output_type": "stream",
     "text": [
      "n=102\n",
      "2670\n",
      "  0.000211 seconds (281 allocations: 7.453 KiB)\n"
     ]
    }
   ],
   "source": [
    "v6 = vcat(v5,v5,v5)\n",
    "w6 = vcat(w5,w5,w5)\n",
    "K = K+K\n",
    "println( \"n=\", length(v6) )\n",
    "@time println( ksV3( v6, w6, K ) )"
   ]
  },
  {
   "cell_type": "code",
   "execution_count": null,
   "metadata": {},
   "outputs": [],
   "source": []
  }
 ],
 "metadata": {
  "@webio": {
   "lastCommId": "dc6e7c0db6304b4b9894ce43614b35e0",
   "lastKernelId": "7f345b25-7939-46f7-b3e7-ef0eee239e2d"
  },
  "kernelspec": {
   "display_name": "Julia 1.0.2",
   "language": "julia",
   "name": "julia-1.0"
  },
  "language_info": {
   "file_extension": ".jl",
   "mimetype": "application/julia",
   "name": "julia",
   "version": "1.0.2"
  }
 },
 "nbformat": 4,
 "nbformat_minor": 2
}
