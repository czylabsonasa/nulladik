{
 "cells": [
  {
   "cell_type": "markdown",
   "metadata": {},
   "source": [
    "A ```gen01```-ben látottakhoz hasonló módszerekkel sorrendeket fogunk generálni.\n",
    "### Feladat:\n",
    "Generáld le egy különböző karakterekből álló sztring összes sorrendjét!\n",
    "\n",
    "### Példa:\n",
    "#### Input: \n",
    "```\n",
    "abc\n",
    "```\n",
    "#### Output: \n",
    "```\n",
    "abc\n",
    "acb\n",
    "bac\n",
    "bca\n",
    "cab\n",
    "cba\n",
    "```\n",
    "\n",
    "### Megoldás: \n",
    "Nincs gyors módszer, hiszen egy $n$ hosszú sorozatnak $1\\cdot2\\cdot \\ldots \\cdot (n-1)\\cdot n$ sorrendje van.<br> \n",
    "Minden szinten mindennel bepróbálkozunk amivel lehet. Brute force.\n",
    "\n",
    "### Megvalósítás:"
   ]
  },
  {
   "cell_type": "code",
   "execution_count": 3,
   "metadata": {},
   "outputs": [
    {
     "data": {
      "text/plain": [
       "genPerm (generic function with 1 method)"
      ]
     },
     "execution_count": 3,
     "metadata": {},
     "output_type": "execute_result"
    }
   ],
   "source": [
    "function genPerm(ennek)\n",
    "  szó=sort(collect(ennek)) # a sztring read-only -> tömbbé alakítjuk\n",
    "  akt=copy(szó) # ebbe tároljuk a szintenként sikeresen berakott karaktereket\n",
    "  n=length(szó) \n",
    "  szabad=ones(Int,n) # megjegyezzük, hogy az előző szinteken mit használtunk el\n",
    "  function bejár( szint )\n",
    "    if szint>n\n",
    "      println( join(akt) )\n",
    "      return\n",
    "    end\n",
    "    for i = 1:n\n",
    "      if 1==szabad[i]\n",
    "        szabad[i]=0\n",
    "        akt[szint]=szó[i]\n",
    "        bejár( szint+1 )\n",
    "        szabad[i]=1\n",
    "      end\n",
    "    end\n",
    "  end\n",
    "  bejár(1)\n",
    "end\n"
   ]
  },
  {
   "cell_type": "code",
   "execution_count": 4,
   "metadata": {},
   "outputs": [
    {
     "name": "stdout",
     "output_type": "stream",
     "text": [
      "abc\n",
      "acb\n",
      "bac\n",
      "bca\n",
      "cab\n",
      "cba\n"
     ]
    }
   ],
   "source": [
    "genPerm(\"abc\")"
   ]
  },
  {
   "cell_type": "markdown",
   "metadata": {},
   "source": [
    "Ezt a módszert később felhasználjuk az [utazó ügynök](https://en.wikipedia.org/wiki/Travelling_salesman_problem)-feladat kis példányainak megoldására. <br>\n",
    "\n",
    "Egyszerű módosítással ismétléses sorrendek bejárását is megoldhatjuk:<br>"
   ]
  },
  {
   "cell_type": "code",
   "execution_count": 5,
   "metadata": {},
   "outputs": [
    {
     "data": {
      "text/plain": [
       "genIperm (generic function with 1 method)"
      ]
     },
     "execution_count": 5,
     "metadata": {},
     "output_type": "execute_result"
    }
   ],
   "source": [
    "function genIperm(ezt)\n",
    "  szó=sort(collect(ezt))\n",
    "  akt=copy(szó)\n",
    "  n=length(szó)\n",
    "  szabad=ones(Int,n)\n",
    "  function bejár( szint )\n",
    "    if szint>n\n",
    "      println( join(akt) )\n",
    "      return\n",
    "    end\n",
    "    előző=nothing\n",
    "    for i = 1:n\n",
    "      if 1==szabad[i] && előző != szó[i]\n",
    "        szabad[i]=0\n",
    "        akt[szint]=előző=szó[i]\n",
    "        bejár( szint+1 )\n",
    "        szabad[i]=1\n",
    "      end\n",
    "    end\n",
    "  end\n",
    "  bejár(1)\n",
    "end\n"
   ]
  },
  {
   "cell_type": "code",
   "execution_count": 6,
   "metadata": {},
   "outputs": [
    {
     "name": "stdout",
     "output_type": "stream",
     "text": [
      "aabb\n",
      "abab\n",
      "abba\n",
      "baab\n",
      "baba\n",
      "bbaa\n"
     ]
    }
   ],
   "source": [
    "genIperm(\"aabb\") # 4! / (2!*2!) == 6 különböző sorrend van"
   ]
  },
  {
   "cell_type": "code",
   "execution_count": 7,
   "metadata": {},
   "outputs": [
    {
     "name": "stdout",
     "output_type": "stream",
     "text": [
      "abc\n",
      "acb\n",
      "bac\n",
      "bca\n",
      "cab\n",
      "cba\n"
     ]
    }
   ],
   "source": [
    "genIperm(\"abc\") # természetesen visszafelé kompatibilis :-)"
   ]
  },
  {
   "cell_type": "markdown",
   "metadata": {},
   "source": [
    "Az ismétléses kóddal egyszerűen bejárhatjuk a kombinációkat is.\n",
    "### Feladat: \n",
    "Adott $n$ különböző tárgy. Hányféleképpen választhatunk belőlük $k$-t (sorrend mindegy, részhalmaz).<br>\n",
    "A kvantitatív válasz: $\\binom{n}{k}$\n",
    "\n",
    "De előtte alakítsuk át a programot \n",
    "hogy a paraméter egy tömb legyen:"
   ]
  },
  {
   "cell_type": "code",
   "execution_count": null,
   "metadata": {},
   "outputs": [],
   "source": []
  }
 ],
 "metadata": {
  "@webio": {
   "lastCommId": "6882aed69992471c965aaa8ce6096433",
   "lastKernelId": "ed8d75f7-0e86-43eb-a3a0-af86786d853f"
  },
  "kernelspec": {
   "display_name": "Julia 1.0.2",
   "language": "julia",
   "name": "julia-1.0"
  },
  "language_info": {
   "file_extension": ".jl",
   "mimetype": "application/julia",
   "name": "julia",
   "version": "1.0.2"
  }
 },
 "nbformat": 4,
 "nbformat_minor": 2
}
