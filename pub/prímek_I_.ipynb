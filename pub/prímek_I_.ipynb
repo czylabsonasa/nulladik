{
 "cells": [
  {
   "cell_type": "markdown",
   "metadata": {},
   "source": [
    "[prímszámok a wikipédián](https://hu.wikipedia.org/wiki/Pr%C3%ADmsz%C3%A1mok)\n",
    "\n",
    "`Röviden`: Legyen az univerzumunk az egytől nagyobb pozitív egészek halmaza.<br> \n",
    "Vannak olyan számok melyeknek az $1$-en és önmagukon kívül nincs más osztójuk. <br>\n",
    "Nevezzük ezeket **prím**nek a többit **összetett**nek. (Az $1$ sem nem prím, sem nem összetett.)<br>\n",
    "`Egymondatban`: egytől nagyobb $n$ szám pontosan akkor **nem** prím, ha van $2$ és $n-1$ között osztója.\n",
    "\n",
    "`Feladat` : írjunk programot mely eldönti egy $n>1$ számról hogy prímszám-e!<br>\n",
    "`Terv`: a $[2,n-1]$-et bejárva ha osztóba ütközünk: $n$ összetett, egyébként prím.<br>\n",
    "`Megvalósítás 0`:\n"
   ]
  },
  {
   "cell_type": "code",
   "execution_count": null,
   "metadata": {},
   "outputs": [],
   "source": [
    "function isPrime0(n)\n",
    "  ans=false\n",
    "  if n>1 \n",
    "    ans=true\n",
    "    for d in 2:(n-1)\n",
    "      if 0==mod(n,d) # n = div(n,d)*d+mod(n,d) maradékos osztás\n",
    "        ans=false\n",
    "        break\n",
    "      end\n",
    "    end\n",
    "  end\n",
    "  ans\n",
    "end"
   ]
  },
  {
   "cell_type": "markdown",
   "metadata": {},
   "source": [
    "Próbáljuk ki a függvényt, pl. az alábbi módon:"
   ]
  },
  {
   "cell_type": "code",
   "execution_count": null,
   "metadata": {},
   "outputs": [],
   "source": [
    "for n in 1:10\n",
    "  println(n,\":\",isPrime0(n))\n",
    "end"
   ]
  },
  {
   "cell_type": "markdown",
   "metadata": {},
   "source": [
    "Ebben a néhány esetben jónak tűnik. Szerezzünk be prímeket valahonnan. <br>\n",
    "Pl.: https://www.di-mgt.com.au/primes1000.txt <br>"
   ]
  },
  {
   "cell_type": "code",
   "execution_count": null,
   "metadata": {},
   "outputs": [],
   "source": [
    "lista=(1153,1163,1171,1181,1187,1193,1201,1213,1217,1223)\n",
    "display(isPrime0.(lista)) # fun.() bradcasting, a kollekció minden elemére alkalmazza\n",
    "display(intersect(lista, lista .+ 2)) # így minden elemhez hozzáadunk 2-t\n",
    "display(isPrime0.(lista .+ 2))"
   ]
  },
  {
   "cell_type": "markdown",
   "metadata": {},
   "source": [
    "A kód elég bonyolultnak tűnik ahhoz képest milyen 1xű dolgot csinál. Kicsit rövidítünk rajta,<br>\n",
    "`Megvalósítás 1`:"
   ]
  },
  {
   "cell_type": "code",
   "execution_count": null,
   "metadata": {},
   "outputs": [],
   "source": [
    "function isPrime1(n)\n",
    "  if n<=1 return false; end\n",
    "  for d in 2:(n-1)\n",
    "    if 0==mod(n,d) return false; end\n",
    "  end\n",
    "  true\n",
    "end"
   ]
  },
  {
   "cell_type": "markdown",
   "metadata": {},
   "source": [
    "Hasonlítsuk össze a két függvény kimenetét, hogy biztosak legyünk nem rontottunk el semmit:"
   ]
  },
  {
   "cell_type": "code",
   "execution_count": null,
   "metadata": {},
   "outputs": [],
   "source": [
    "ival=1:1000\n",
    "isPrime0.(ival)==isPrime1.(ival)"
   ]
  },
  {
   "cell_type": "markdown",
   "metadata": {},
   "source": [
    "`Javítás`:<br>\n",
    "* Vegyük észre, hogy érdemes \"letudni\" néhány kis prímet egyszerre ($2$ és $3$), ezután csak páratlan osztókat nézni<br>\n",
    "* lehetne még a $d$ növelését hekkelni $6k+\\{1,5\\}$ alakúak maradnak, ebbe nem megyünk bele.<br>\n",
    "\n",
    "`Megvalósítás 2`:"
   ]
  },
  {
   "cell_type": "code",
   "execution_count": null,
   "metadata": {},
   "outputs": [],
   "source": [
    "function isPrime2(n)\n",
    "  if n<5 return (false,true,true,false)[n] end # tuple értéke az n helyen\n",
    "  if 0==mod(n,2) || 0==mod(n,3) return false end\n",
    "  for d in 5:2:(n-1)\n",
    "    if 0==mod(n,d) return false end\n",
    "  end\n",
    "  true\n",
    "end"
   ]
  },
  {
   "cell_type": "code",
   "execution_count": null,
   "metadata": {},
   "outputs": [],
   "source": [
    "isPrime2.(ival)==isPrime0.(ival)"
   ]
  },
  {
   "cell_type": "markdown",
   "metadata": {},
   "source": [
    "Most nézzük meg javítottunk (200000-nél nagyobbra csak nagyon erős gépen póbáljuk):"
   ]
  },
  {
   "cell_type": "code",
   "execution_count": 75,
   "metadata": {},
   "outputs": [
    {
     "name": "stdout",
     "output_type": "stream",
     "text": [
      "  1.808461 seconds (223.96 k allocations: 10.610 MiB, 0.27% gc time)\n",
      "  0.734260 seconds (10 allocations: 16.844 KiB)\n"
     ]
    },
    {
     "data": {
      "text/plain": [
       "true"
      ]
     },
     "execution_count": 75,
     "metadata": {},
     "output_type": "execute_result"
    }
   ],
   "source": [
    "ival=1:100000\n",
    "@time r0=isPrime0.(ival)\n",
    "@time r2=isPrime2.(ival)\n",
    "r0==r2"
   ]
  },
  {
   "cell_type": "markdown",
   "metadata": {},
   "source": [
    "`Javítás`:<br>\n",
    "* Vegyük észre, hogy ha $n$ összetett szám, akkor a legkisebb valódi osztója nem lehet \n",
    "nagyobb mint $\\sqrt{n}$,<br>\n",
    "hiszen egyébként $n>\\sqrt{n} \\sqrt{n}=n$ lenne. Ezért elég csak $d\\le \\sqrt{n}$-ig menni.\n",
    "\n",
    "`Megvalósítás 3`:"
   ]
  },
  {
   "cell_type": "code",
   "execution_count": null,
   "metadata": {},
   "outputs": [],
   "source": [
    "function isPrime3(n)\n",
    "  if n<5 return (false,true,true,false)[n] end\n",
    "  if 0==mod(n,2) || 0==mod(n,3) return false end\n",
    "  d=5\n",
    "  while d*d<=n # itt nekünk kell kezelni a ciklusváltozót\n",
    "    if 0==mod(n,d) return false end\n",
    "    d+=2\n",
    "  end\n",
    "  true\n",
    "end\n"
   ]
  },
  {
   "cell_type": "code",
   "execution_count": 74,
   "metadata": {},
   "outputs": [
    {
     "name": "stdout",
     "output_type": "stream",
     "text": [
      "  0.749197 seconds (10 allocations: 16.844 KiB)\n",
      "  0.005920 seconds (10 allocations: 16.844 KiB)\n"
     ]
    },
    {
     "data": {
      "text/plain": [
       "true"
      ]
     },
     "execution_count": 74,
     "metadata": {},
     "output_type": "execute_result"
    }
   ],
   "source": [
    "ival=1:100000\n",
    "@time r2=isPrime2.(ival)\n",
    "@time r3=isPrime3.(ival)\n",
    "r2==r3"
   ]
  },
  {
   "cell_type": "markdown",
   "metadata": {},
   "source": [
    "A kiinduló programot 1xű meggondolásokkal jelentősen felgyorsítottuk. <br>\n",
    "A tesztgép processzoráról az alábbi parancs ad infót:\n"
   ]
  },
  {
   "cell_type": "code",
   "execution_count": 91,
   "metadata": {},
   "outputs": [
    {
     "name": "stdout",
     "output_type": "stream",
     "text": [
      "processor\t: 0\n",
      "vendor_id\t: GenuineIntel\n",
      "cpu family\t: 6\n",
      "model\t\t: 94\n",
      "model name\t: Intel(R) Core(TM) i5-6500 CPU @ 3.20GHz\n",
      "stepping\t: 3\n",
      "microcode\t: 0xc6\n",
      "cpu MHz\t\t: 3000.038\n",
      "cache size\t: 6144 KB\n",
      "physical id\t: 0\n"
     ]
    },
    {
     "data": {
      "text/plain": [
       "Process(`\u001b[4mhead\u001b[24m \u001b[4m/proc/cpuinfo\u001b[24m`, ProcessExited(0))"
      ]
     },
     "execution_count": 91,
     "metadata": {},
     "output_type": "execute_result"
    }
   ],
   "source": [
    "run(`head /proc/cpuinfo`)"
   ]
  },
  {
   "cell_type": "markdown",
   "metadata": {},
   "source": [
    "`Házi feladat`:<br>\n",
    "* írjunk egy olyan fv-t mely igazat ad vissza ha $n=pq$ ahol $p\\neq q$ prímek, egyébként hamisat.\n"
   ]
  },
  {
   "cell_type": "markdown",
   "metadata": {},
   "source": [
    "A következő alkalommal az Eratoszthenész-szita néven ismert prímtesztet vizsgáljuk meg."
   ]
  },
  {
   "cell_type": "code",
   "execution_count": null,
   "metadata": {},
   "outputs": [],
   "source": []
  }
 ],
 "metadata": {
  "@webio": {
   "lastCommId": "1750f353fbbe4cc98590f67e9546a07e",
   "lastKernelId": "fcb296ff-d175-4637-a9cc-fcd24e629421"
  },
  "kernelspec": {
   "display_name": "Julia 1.0.2",
   "language": "julia",
   "name": "julia-1.0"
  },
  "language_info": {
   "file_extension": ".jl",
   "mimetype": "application/julia",
   "name": "julia",
   "version": "1.0.2"
  }
 },
 "nbformat": 4,
 "nbformat_minor": 2
}
